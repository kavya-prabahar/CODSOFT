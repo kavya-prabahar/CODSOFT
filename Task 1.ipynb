{
  "nbformat": 4,
  "nbformat_minor": 0,
  "metadata": {
    "colab": {
      "provenance": [],
      "authorship_tag": "ABX9TyOUeHP9YHL9h7CYwL6imQAJ",
      "include_colab_link": true
    },
    "kernelspec": {
      "name": "python3",
      "display_name": "Python 3"
    },
    "language_info": {
      "name": "python"
    }
  },
  "cells": [
    {
      "cell_type": "markdown",
      "metadata": {
        "id": "view-in-github",
        "colab_type": "text"
      },
      "source": [
        "<a href=\"https://colab.research.google.com/github/kavya-prabahar/CODSOFT/blob/main/Task%201.ipynb\" target=\"_parent\"><img src=\"https://colab.research.google.com/assets/colab-badge.svg\" alt=\"Open In Colab\"/></a>"
      ]
    },
    {
      "cell_type": "markdown",
      "source": [
        "**Importing of Neccessary Libraries:**"
      ],
      "metadata": {
        "id": "3Me51S6L8BIG"
      }
    },
    {
      "cell_type": "code",
      "execution_count": null,
      "metadata": {
        "id": "PJozw3J9ZDx2"
      },
      "outputs": [],
      "source": [
        "import pandas as pd\n",
        "import numpy as np\n",
        "import matplotlib.pyplot as plt\n",
        "import sklearn as sk\n",
        "from google.colab import drive\n",
        "import seaborn as sns"
      ]
    },
    {
      "cell_type": "code",
      "source": [
        "from sklearn import preprocessing\n",
        "from pandas import DataFrame"
      ],
      "metadata": {
        "id": "B27C4ZHJasSs"
      },
      "execution_count": null,
      "outputs": []
    },
    {
      "cell_type": "code",
      "source": [
        "\n",
        "import requests\n",
        "from io import StringIO\n",
        "\n",
        "# URL of the dataset on GitHub\n",
        "url = \"https://raw.githubusercontent.com/kavya-prabahar/CODSOFT/main/Titanic%20Dataset.csv\"\n",
        "\n",
        "response = requests.get(url)\n",
        "if response.status_code == 200:\n",
        "    data = StringIO(response.text)\n",
        "    dataset = pd.read_csv(data)\n",
        "else:\n",
        "    print(\"Failed to download the dataset\")\n",
        "\n"
      ],
      "metadata": {
        "id": "S5kHfUfsbulv"
      },
      "execution_count": null,
      "outputs": []
    },
    {
      "cell_type": "code",
      "source": [
        "dataset"
      ],
      "metadata": {
        "colab": {
          "base_uri": "https://localhost:8080/",
          "height": 423
        },
        "id": "RprF14mbb1Bf",
        "outputId": "b1f399e2-0214-4b0c-fb14-775d9e439656"
      },
      "execution_count": null,
      "outputs": [
        {
          "output_type": "execute_result",
          "data": {
            "text/plain": [
              "     PassengerId  Survived  Pclass  \\\n",
              "0              1         0       3   \n",
              "1              2         1       1   \n",
              "2              3         1       3   \n",
              "3              4         1       1   \n",
              "4              5         0       3   \n",
              "..           ...       ...     ...   \n",
              "886          887         0       2   \n",
              "887          888         1       1   \n",
              "888          889         0       3   \n",
              "889          890         1       1   \n",
              "890          891         0       3   \n",
              "\n",
              "                                                  Name     Sex   Age  SibSp  \\\n",
              "0                              Braund, Mr. Owen Harris    male  22.0      1   \n",
              "1    Cumings, Mrs. John Bradley (Florence Briggs Th...  female  38.0      1   \n",
              "2                               Heikkinen, Miss. Laina  female  26.0      0   \n",
              "3         Futrelle, Mrs. Jacques Heath (Lily May Peel)  female  35.0      1   \n",
              "4                             Allen, Mr. William Henry    male  35.0      0   \n",
              "..                                                 ...     ...   ...    ...   \n",
              "886                              Montvila, Rev. Juozas    male  27.0      0   \n",
              "887                       Graham, Miss. Margaret Edith  female  19.0      0   \n",
              "888           Johnston, Miss. Catherine Helen \"Carrie\"  female   NaN      1   \n",
              "889                              Behr, Mr. Karl Howell    male  26.0      0   \n",
              "890                                Dooley, Mr. Patrick    male  32.0      0   \n",
              "\n",
              "     Parch            Ticket     Fare Cabin Embarked  \n",
              "0        0         A/5 21171   7.2500   NaN        S  \n",
              "1        0          PC 17599  71.2833   C85        C  \n",
              "2        0  STON/O2. 3101282   7.9250   NaN        S  \n",
              "3        0            113803  53.1000  C123        S  \n",
              "4        0            373450   8.0500   NaN        S  \n",
              "..     ...               ...      ...   ...      ...  \n",
              "886      0            211536  13.0000   NaN        S  \n",
              "887      0            112053  30.0000   B42        S  \n",
              "888      2        W./C. 6607  23.4500   NaN        S  \n",
              "889      0            111369  30.0000  C148        C  \n",
              "890      0            370376   7.7500   NaN        Q  \n",
              "\n",
              "[891 rows x 12 columns]"
            ],
            "text/html": [
              "\n",
              "  <div id=\"df-bd20372b-fad1-424e-9c04-c44a410937da\" class=\"colab-df-container\">\n",
              "    <div>\n",
              "<style scoped>\n",
              "    .dataframe tbody tr th:only-of-type {\n",
              "        vertical-align: middle;\n",
              "    }\n",
              "\n",
              "    .dataframe tbody tr th {\n",
              "        vertical-align: top;\n",
              "    }\n",
              "\n",
              "    .dataframe thead th {\n",
              "        text-align: right;\n",
              "    }\n",
              "</style>\n",
              "<table border=\"1\" class=\"dataframe\">\n",
              "  <thead>\n",
              "    <tr style=\"text-align: right;\">\n",
              "      <th></th>\n",
              "      <th>PassengerId</th>\n",
              "      <th>Survived</th>\n",
              "      <th>Pclass</th>\n",
              "      <th>Name</th>\n",
              "      <th>Sex</th>\n",
              "      <th>Age</th>\n",
              "      <th>SibSp</th>\n",
              "      <th>Parch</th>\n",
              "      <th>Ticket</th>\n",
              "      <th>Fare</th>\n",
              "      <th>Cabin</th>\n",
              "      <th>Embarked</th>\n",
              "    </tr>\n",
              "  </thead>\n",
              "  <tbody>\n",
              "    <tr>\n",
              "      <th>0</th>\n",
              "      <td>1</td>\n",
              "      <td>0</td>\n",
              "      <td>3</td>\n",
              "      <td>Braund, Mr. Owen Harris</td>\n",
              "      <td>male</td>\n",
              "      <td>22.0</td>\n",
              "      <td>1</td>\n",
              "      <td>0</td>\n",
              "      <td>A/5 21171</td>\n",
              "      <td>7.2500</td>\n",
              "      <td>NaN</td>\n",
              "      <td>S</td>\n",
              "    </tr>\n",
              "    <tr>\n",
              "      <th>1</th>\n",
              "      <td>2</td>\n",
              "      <td>1</td>\n",
              "      <td>1</td>\n",
              "      <td>Cumings, Mrs. John Bradley (Florence Briggs Th...</td>\n",
              "      <td>female</td>\n",
              "      <td>38.0</td>\n",
              "      <td>1</td>\n",
              "      <td>0</td>\n",
              "      <td>PC 17599</td>\n",
              "      <td>71.2833</td>\n",
              "      <td>C85</td>\n",
              "      <td>C</td>\n",
              "    </tr>\n",
              "    <tr>\n",
              "      <th>2</th>\n",
              "      <td>3</td>\n",
              "      <td>1</td>\n",
              "      <td>3</td>\n",
              "      <td>Heikkinen, Miss. Laina</td>\n",
              "      <td>female</td>\n",
              "      <td>26.0</td>\n",
              "      <td>0</td>\n",
              "      <td>0</td>\n",
              "      <td>STON/O2. 3101282</td>\n",
              "      <td>7.9250</td>\n",
              "      <td>NaN</td>\n",
              "      <td>S</td>\n",
              "    </tr>\n",
              "    <tr>\n",
              "      <th>3</th>\n",
              "      <td>4</td>\n",
              "      <td>1</td>\n",
              "      <td>1</td>\n",
              "      <td>Futrelle, Mrs. Jacques Heath (Lily May Peel)</td>\n",
              "      <td>female</td>\n",
              "      <td>35.0</td>\n",
              "      <td>1</td>\n",
              "      <td>0</td>\n",
              "      <td>113803</td>\n",
              "      <td>53.1000</td>\n",
              "      <td>C123</td>\n",
              "      <td>S</td>\n",
              "    </tr>\n",
              "    <tr>\n",
              "      <th>4</th>\n",
              "      <td>5</td>\n",
              "      <td>0</td>\n",
              "      <td>3</td>\n",
              "      <td>Allen, Mr. William Henry</td>\n",
              "      <td>male</td>\n",
              "      <td>35.0</td>\n",
              "      <td>0</td>\n",
              "      <td>0</td>\n",
              "      <td>373450</td>\n",
              "      <td>8.0500</td>\n",
              "      <td>NaN</td>\n",
              "      <td>S</td>\n",
              "    </tr>\n",
              "    <tr>\n",
              "      <th>...</th>\n",
              "      <td>...</td>\n",
              "      <td>...</td>\n",
              "      <td>...</td>\n",
              "      <td>...</td>\n",
              "      <td>...</td>\n",
              "      <td>...</td>\n",
              "      <td>...</td>\n",
              "      <td>...</td>\n",
              "      <td>...</td>\n",
              "      <td>...</td>\n",
              "      <td>...</td>\n",
              "      <td>...</td>\n",
              "    </tr>\n",
              "    <tr>\n",
              "      <th>886</th>\n",
              "      <td>887</td>\n",
              "      <td>0</td>\n",
              "      <td>2</td>\n",
              "      <td>Montvila, Rev. Juozas</td>\n",
              "      <td>male</td>\n",
              "      <td>27.0</td>\n",
              "      <td>0</td>\n",
              "      <td>0</td>\n",
              "      <td>211536</td>\n",
              "      <td>13.0000</td>\n",
              "      <td>NaN</td>\n",
              "      <td>S</td>\n",
              "    </tr>\n",
              "    <tr>\n",
              "      <th>887</th>\n",
              "      <td>888</td>\n",
              "      <td>1</td>\n",
              "      <td>1</td>\n",
              "      <td>Graham, Miss. Margaret Edith</td>\n",
              "      <td>female</td>\n",
              "      <td>19.0</td>\n",
              "      <td>0</td>\n",
              "      <td>0</td>\n",
              "      <td>112053</td>\n",
              "      <td>30.0000</td>\n",
              "      <td>B42</td>\n",
              "      <td>S</td>\n",
              "    </tr>\n",
              "    <tr>\n",
              "      <th>888</th>\n",
              "      <td>889</td>\n",
              "      <td>0</td>\n",
              "      <td>3</td>\n",
              "      <td>Johnston, Miss. Catherine Helen \"Carrie\"</td>\n",
              "      <td>female</td>\n",
              "      <td>NaN</td>\n",
              "      <td>1</td>\n",
              "      <td>2</td>\n",
              "      <td>W./C. 6607</td>\n",
              "      <td>23.4500</td>\n",
              "      <td>NaN</td>\n",
              "      <td>S</td>\n",
              "    </tr>\n",
              "    <tr>\n",
              "      <th>889</th>\n",
              "      <td>890</td>\n",
              "      <td>1</td>\n",
              "      <td>1</td>\n",
              "      <td>Behr, Mr. Karl Howell</td>\n",
              "      <td>male</td>\n",
              "      <td>26.0</td>\n",
              "      <td>0</td>\n",
              "      <td>0</td>\n",
              "      <td>111369</td>\n",
              "      <td>30.0000</td>\n",
              "      <td>C148</td>\n",
              "      <td>C</td>\n",
              "    </tr>\n",
              "    <tr>\n",
              "      <th>890</th>\n",
              "      <td>891</td>\n",
              "      <td>0</td>\n",
              "      <td>3</td>\n",
              "      <td>Dooley, Mr. Patrick</td>\n",
              "      <td>male</td>\n",
              "      <td>32.0</td>\n",
              "      <td>0</td>\n",
              "      <td>0</td>\n",
              "      <td>370376</td>\n",
              "      <td>7.7500</td>\n",
              "      <td>NaN</td>\n",
              "      <td>Q</td>\n",
              "    </tr>\n",
              "  </tbody>\n",
              "</table>\n",
              "<p>891 rows × 12 columns</p>\n",
              "</div>\n",
              "    <div class=\"colab-df-buttons\">\n",
              "\n",
              "  <div class=\"colab-df-container\">\n",
              "    <button class=\"colab-df-convert\" onclick=\"convertToInteractive('df-bd20372b-fad1-424e-9c04-c44a410937da')\"\n",
              "            title=\"Convert this dataframe to an interactive table.\"\n",
              "            style=\"display:none;\">\n",
              "\n",
              "  <svg xmlns=\"http://www.w3.org/2000/svg\" height=\"24px\" viewBox=\"0 -960 960 960\">\n",
              "    <path d=\"M120-120v-720h720v720H120Zm60-500h600v-160H180v160Zm220 220h160v-160H400v160Zm0 220h160v-160H400v160ZM180-400h160v-160H180v160Zm440 0h160v-160H620v160ZM180-180h160v-160H180v160Zm440 0h160v-160H620v160Z\"/>\n",
              "  </svg>\n",
              "    </button>\n",
              "\n",
              "  <style>\n",
              "    .colab-df-container {\n",
              "      display:flex;\n",
              "      gap: 12px;\n",
              "    }\n",
              "\n",
              "    .colab-df-convert {\n",
              "      background-color: #E8F0FE;\n",
              "      border: none;\n",
              "      border-radius: 50%;\n",
              "      cursor: pointer;\n",
              "      display: none;\n",
              "      fill: #1967D2;\n",
              "      height: 32px;\n",
              "      padding: 0 0 0 0;\n",
              "      width: 32px;\n",
              "    }\n",
              "\n",
              "    .colab-df-convert:hover {\n",
              "      background-color: #E2EBFA;\n",
              "      box-shadow: 0px 1px 2px rgba(60, 64, 67, 0.3), 0px 1px 3px 1px rgba(60, 64, 67, 0.15);\n",
              "      fill: #174EA6;\n",
              "    }\n",
              "\n",
              "    .colab-df-buttons div {\n",
              "      margin-bottom: 4px;\n",
              "    }\n",
              "\n",
              "    [theme=dark] .colab-df-convert {\n",
              "      background-color: #3B4455;\n",
              "      fill: #D2E3FC;\n",
              "    }\n",
              "\n",
              "    [theme=dark] .colab-df-convert:hover {\n",
              "      background-color: #434B5C;\n",
              "      box-shadow: 0px 1px 3px 1px rgba(0, 0, 0, 0.15);\n",
              "      filter: drop-shadow(0px 1px 2px rgba(0, 0, 0, 0.3));\n",
              "      fill: #FFFFFF;\n",
              "    }\n",
              "  </style>\n",
              "\n",
              "    <script>\n",
              "      const buttonEl =\n",
              "        document.querySelector('#df-bd20372b-fad1-424e-9c04-c44a410937da button.colab-df-convert');\n",
              "      buttonEl.style.display =\n",
              "        google.colab.kernel.accessAllowed ? 'block' : 'none';\n",
              "\n",
              "      async function convertToInteractive(key) {\n",
              "        const element = document.querySelector('#df-bd20372b-fad1-424e-9c04-c44a410937da');\n",
              "        const dataTable =\n",
              "          await google.colab.kernel.invokeFunction('convertToInteractive',\n",
              "                                                    [key], {});\n",
              "        if (!dataTable) return;\n",
              "\n",
              "        const docLinkHtml = 'Like what you see? Visit the ' +\n",
              "          '<a target=\"_blank\" href=https://colab.research.google.com/notebooks/data_table.ipynb>data table notebook</a>'\n",
              "          + ' to learn more about interactive tables.';\n",
              "        element.innerHTML = '';\n",
              "        dataTable['output_type'] = 'display_data';\n",
              "        await google.colab.output.renderOutput(dataTable, element);\n",
              "        const docLink = document.createElement('div');\n",
              "        docLink.innerHTML = docLinkHtml;\n",
              "        element.appendChild(docLink);\n",
              "      }\n",
              "    </script>\n",
              "  </div>\n",
              "\n",
              "\n",
              "<div id=\"df-c81fe3d1-3ccd-497c-8811-5c23700c53de\">\n",
              "  <button class=\"colab-df-quickchart\" onclick=\"quickchart('df-c81fe3d1-3ccd-497c-8811-5c23700c53de')\"\n",
              "            title=\"Suggest charts\"\n",
              "            style=\"display:none;\">\n",
              "\n",
              "<svg xmlns=\"http://www.w3.org/2000/svg\" height=\"24px\"viewBox=\"0 0 24 24\"\n",
              "     width=\"24px\">\n",
              "    <g>\n",
              "        <path d=\"M19 3H5c-1.1 0-2 .9-2 2v14c0 1.1.9 2 2 2h14c1.1 0 2-.9 2-2V5c0-1.1-.9-2-2-2zM9 17H7v-7h2v7zm4 0h-2V7h2v10zm4 0h-2v-4h2v4z\"/>\n",
              "    </g>\n",
              "</svg>\n",
              "  </button>\n",
              "\n",
              "<style>\n",
              "  .colab-df-quickchart {\n",
              "      --bg-color: #E8F0FE;\n",
              "      --fill-color: #1967D2;\n",
              "      --hover-bg-color: #E2EBFA;\n",
              "      --hover-fill-color: #174EA6;\n",
              "      --disabled-fill-color: #AAA;\n",
              "      --disabled-bg-color: #DDD;\n",
              "  }\n",
              "\n",
              "  [theme=dark] .colab-df-quickchart {\n",
              "      --bg-color: #3B4455;\n",
              "      --fill-color: #D2E3FC;\n",
              "      --hover-bg-color: #434B5C;\n",
              "      --hover-fill-color: #FFFFFF;\n",
              "      --disabled-bg-color: #3B4455;\n",
              "      --disabled-fill-color: #666;\n",
              "  }\n",
              "\n",
              "  .colab-df-quickchart {\n",
              "    background-color: var(--bg-color);\n",
              "    border: none;\n",
              "    border-radius: 50%;\n",
              "    cursor: pointer;\n",
              "    display: none;\n",
              "    fill: var(--fill-color);\n",
              "    height: 32px;\n",
              "    padding: 0;\n",
              "    width: 32px;\n",
              "  }\n",
              "\n",
              "  .colab-df-quickchart:hover {\n",
              "    background-color: var(--hover-bg-color);\n",
              "    box-shadow: 0 1px 2px rgba(60, 64, 67, 0.3), 0 1px 3px 1px rgba(60, 64, 67, 0.15);\n",
              "    fill: var(--button-hover-fill-color);\n",
              "  }\n",
              "\n",
              "  .colab-df-quickchart-complete:disabled,\n",
              "  .colab-df-quickchart-complete:disabled:hover {\n",
              "    background-color: var(--disabled-bg-color);\n",
              "    fill: var(--disabled-fill-color);\n",
              "    box-shadow: none;\n",
              "  }\n",
              "\n",
              "  .colab-df-spinner {\n",
              "    border: 2px solid var(--fill-color);\n",
              "    border-color: transparent;\n",
              "    border-bottom-color: var(--fill-color);\n",
              "    animation:\n",
              "      spin 1s steps(1) infinite;\n",
              "  }\n",
              "\n",
              "  @keyframes spin {\n",
              "    0% {\n",
              "      border-color: transparent;\n",
              "      border-bottom-color: var(--fill-color);\n",
              "      border-left-color: var(--fill-color);\n",
              "    }\n",
              "    20% {\n",
              "      border-color: transparent;\n",
              "      border-left-color: var(--fill-color);\n",
              "      border-top-color: var(--fill-color);\n",
              "    }\n",
              "    30% {\n",
              "      border-color: transparent;\n",
              "      border-left-color: var(--fill-color);\n",
              "      border-top-color: var(--fill-color);\n",
              "      border-right-color: var(--fill-color);\n",
              "    }\n",
              "    40% {\n",
              "      border-color: transparent;\n",
              "      border-right-color: var(--fill-color);\n",
              "      border-top-color: var(--fill-color);\n",
              "    }\n",
              "    60% {\n",
              "      border-color: transparent;\n",
              "      border-right-color: var(--fill-color);\n",
              "    }\n",
              "    80% {\n",
              "      border-color: transparent;\n",
              "      border-right-color: var(--fill-color);\n",
              "      border-bottom-color: var(--fill-color);\n",
              "    }\n",
              "    90% {\n",
              "      border-color: transparent;\n",
              "      border-bottom-color: var(--fill-color);\n",
              "    }\n",
              "  }\n",
              "</style>\n",
              "\n",
              "  <script>\n",
              "    async function quickchart(key) {\n",
              "      const quickchartButtonEl =\n",
              "        document.querySelector('#' + key + ' button');\n",
              "      quickchartButtonEl.disabled = true;  // To prevent multiple clicks.\n",
              "      quickchartButtonEl.classList.add('colab-df-spinner');\n",
              "      try {\n",
              "        const charts = await google.colab.kernel.invokeFunction(\n",
              "            'suggestCharts', [key], {});\n",
              "      } catch (error) {\n",
              "        console.error('Error during call to suggestCharts:', error);\n",
              "      }\n",
              "      quickchartButtonEl.classList.remove('colab-df-spinner');\n",
              "      quickchartButtonEl.classList.add('colab-df-quickchart-complete');\n",
              "    }\n",
              "    (() => {\n",
              "      let quickchartButtonEl =\n",
              "        document.querySelector('#df-c81fe3d1-3ccd-497c-8811-5c23700c53de button');\n",
              "      quickchartButtonEl.style.display =\n",
              "        google.colab.kernel.accessAllowed ? 'block' : 'none';\n",
              "    })();\n",
              "  </script>\n",
              "</div>\n",
              "\n",
              "  <div id=\"id_5617125d-2837-4192-8989-17dc72fa2f63\">\n",
              "    <style>\n",
              "      .colab-df-generate {\n",
              "        background-color: #E8F0FE;\n",
              "        border: none;\n",
              "        border-radius: 50%;\n",
              "        cursor: pointer;\n",
              "        display: none;\n",
              "        fill: #1967D2;\n",
              "        height: 32px;\n",
              "        padding: 0 0 0 0;\n",
              "        width: 32px;\n",
              "      }\n",
              "\n",
              "      .colab-df-generate:hover {\n",
              "        background-color: #E2EBFA;\n",
              "        box-shadow: 0px 1px 2px rgba(60, 64, 67, 0.3), 0px 1px 3px 1px rgba(60, 64, 67, 0.15);\n",
              "        fill: #174EA6;\n",
              "      }\n",
              "\n",
              "      [theme=dark] .colab-df-generate {\n",
              "        background-color: #3B4455;\n",
              "        fill: #D2E3FC;\n",
              "      }\n",
              "\n",
              "      [theme=dark] .colab-df-generate:hover {\n",
              "        background-color: #434B5C;\n",
              "        box-shadow: 0px 1px 3px 1px rgba(0, 0, 0, 0.15);\n",
              "        filter: drop-shadow(0px 1px 2px rgba(0, 0, 0, 0.3));\n",
              "        fill: #FFFFFF;\n",
              "      }\n",
              "    </style>\n",
              "    <button class=\"colab-df-generate\" onclick=\"generateWithVariable('dataset')\"\n",
              "            title=\"Generate code using this dataframe.\"\n",
              "            style=\"display:none;\">\n",
              "\n",
              "  <svg xmlns=\"http://www.w3.org/2000/svg\" height=\"24px\"viewBox=\"0 0 24 24\"\n",
              "       width=\"24px\">\n",
              "    <path d=\"M7,19H8.4L18.45,9,17,7.55,7,17.6ZM5,21V16.75L18.45,3.32a2,2,0,0,1,2.83,0l1.4,1.43a1.91,1.91,0,0,1,.58,1.4,1.91,1.91,0,0,1-.58,1.4L9.25,21ZM18.45,9,17,7.55Zm-12,3A5.31,5.31,0,0,0,4.9,8.1,5.31,5.31,0,0,0,1,6.5,5.31,5.31,0,0,0,4.9,4.9,5.31,5.31,0,0,0,6.5,1,5.31,5.31,0,0,0,8.1,4.9,5.31,5.31,0,0,0,12,6.5,5.46,5.46,0,0,0,6.5,12Z\"/>\n",
              "  </svg>\n",
              "    </button>\n",
              "    <script>\n",
              "      (() => {\n",
              "      const buttonEl =\n",
              "        document.querySelector('#id_5617125d-2837-4192-8989-17dc72fa2f63 button.colab-df-generate');\n",
              "      buttonEl.style.display =\n",
              "        google.colab.kernel.accessAllowed ? 'block' : 'none';\n",
              "\n",
              "      buttonEl.onclick = () => {\n",
              "        google.colab.notebook.generateWithVariable('dataset');\n",
              "      }\n",
              "      })();\n",
              "    </script>\n",
              "  </div>\n",
              "\n",
              "    </div>\n",
              "  </div>\n"
            ],
            "application/vnd.google.colaboratory.intrinsic+json": {
              "type": "dataframe",
              "variable_name": "dataset",
              "summary": "{\n  \"name\": \"dataset\",\n  \"rows\": 891,\n  \"fields\": [\n    {\n      \"column\": \"PassengerId\",\n      \"properties\": {\n        \"dtype\": \"number\",\n        \"std\": 257,\n        \"min\": 1,\n        \"max\": 891,\n        \"num_unique_values\": 891,\n        \"samples\": [\n          710,\n          440,\n          841\n        ],\n        \"semantic_type\": \"\",\n        \"description\": \"\"\n      }\n    },\n    {\n      \"column\": \"Survived\",\n      \"properties\": {\n        \"dtype\": \"number\",\n        \"std\": 0,\n        \"min\": 0,\n        \"max\": 1,\n        \"num_unique_values\": 2,\n        \"samples\": [\n          1,\n          0\n        ],\n        \"semantic_type\": \"\",\n        \"description\": \"\"\n      }\n    },\n    {\n      \"column\": \"Pclass\",\n      \"properties\": {\n        \"dtype\": \"number\",\n        \"std\": 0,\n        \"min\": 1,\n        \"max\": 3,\n        \"num_unique_values\": 3,\n        \"samples\": [\n          3,\n          1\n        ],\n        \"semantic_type\": \"\",\n        \"description\": \"\"\n      }\n    },\n    {\n      \"column\": \"Name\",\n      \"properties\": {\n        \"dtype\": \"string\",\n        \"num_unique_values\": 891,\n        \"samples\": [\n          \"Moubarek, Master. Halim Gonios (\\\"William George\\\")\",\n          \"Kvillner, Mr. Johan Henrik Johannesson\"\n        ],\n        \"semantic_type\": \"\",\n        \"description\": \"\"\n      }\n    },\n    {\n      \"column\": \"Sex\",\n      \"properties\": {\n        \"dtype\": \"category\",\n        \"num_unique_values\": 2,\n        \"samples\": [\n          \"female\",\n          \"male\"\n        ],\n        \"semantic_type\": \"\",\n        \"description\": \"\"\n      }\n    },\n    {\n      \"column\": \"Age\",\n      \"properties\": {\n        \"dtype\": \"number\",\n        \"std\": 14.526497332334042,\n        \"min\": 0.42,\n        \"max\": 80.0,\n        \"num_unique_values\": 88,\n        \"samples\": [\n          0.75,\n          22.0\n        ],\n        \"semantic_type\": \"\",\n        \"description\": \"\"\n      }\n    },\n    {\n      \"column\": \"SibSp\",\n      \"properties\": {\n        \"dtype\": \"number\",\n        \"std\": 1,\n        \"min\": 0,\n        \"max\": 8,\n        \"num_unique_values\": 7,\n        \"samples\": [\n          1,\n          0\n        ],\n        \"semantic_type\": \"\",\n        \"description\": \"\"\n      }\n    },\n    {\n      \"column\": \"Parch\",\n      \"properties\": {\n        \"dtype\": \"number\",\n        \"std\": 0,\n        \"min\": 0,\n        \"max\": 6,\n        \"num_unique_values\": 7,\n        \"samples\": [\n          0,\n          1\n        ],\n        \"semantic_type\": \"\",\n        \"description\": \"\"\n      }\n    },\n    {\n      \"column\": \"Ticket\",\n      \"properties\": {\n        \"dtype\": \"string\",\n        \"num_unique_values\": 681,\n        \"samples\": [\n          \"11774\",\n          \"248740\"\n        ],\n        \"semantic_type\": \"\",\n        \"description\": \"\"\n      }\n    },\n    {\n      \"column\": \"Fare\",\n      \"properties\": {\n        \"dtype\": \"number\",\n        \"std\": 49.6934285971809,\n        \"min\": 0.0,\n        \"max\": 512.3292,\n        \"num_unique_values\": 248,\n        \"samples\": [\n          11.2417,\n          51.8625\n        ],\n        \"semantic_type\": \"\",\n        \"description\": \"\"\n      }\n    },\n    {\n      \"column\": \"Cabin\",\n      \"properties\": {\n        \"dtype\": \"category\",\n        \"num_unique_values\": 147,\n        \"samples\": [\n          \"D45\",\n          \"B49\"\n        ],\n        \"semantic_type\": \"\",\n        \"description\": \"\"\n      }\n    },\n    {\n      \"column\": \"Embarked\",\n      \"properties\": {\n        \"dtype\": \"category\",\n        \"num_unique_values\": 3,\n        \"samples\": [\n          \"S\",\n          \"C\"\n        ],\n        \"semantic_type\": \"\",\n        \"description\": \"\"\n      }\n    }\n  ]\n}"
            }
          },
          "metadata": {},
          "execution_count": 8
        }
      ]
    },
    {
      "cell_type": "code",
      "source": [
        "dataset.shape"
      ],
      "metadata": {
        "colab": {
          "base_uri": "https://localhost:8080/"
        },
        "id": "djuZGUuHb6OZ",
        "outputId": "d22e6462-7be9-47f9-cbfb-d2102a3c8b29"
      },
      "execution_count": null,
      "outputs": [
        {
          "output_type": "execute_result",
          "data": {
            "text/plain": [
              "(891, 12)"
            ]
          },
          "metadata": {},
          "execution_count": 9
        }
      ]
    },
    {
      "cell_type": "code",
      "source": [
        "dataset.info()"
      ],
      "metadata": {
        "colab": {
          "base_uri": "https://localhost:8080/"
        },
        "id": "G5c3nWL4pivn",
        "outputId": "a48fbf20-dbaa-4cd0-d5d0-daa2c8472953"
      },
      "execution_count": null,
      "outputs": [
        {
          "output_type": "stream",
          "name": "stdout",
          "text": [
            "<class 'pandas.core.frame.DataFrame'>\n",
            "RangeIndex: 891 entries, 0 to 890\n",
            "Data columns (total 12 columns):\n",
            " #   Column       Non-Null Count  Dtype  \n",
            "---  ------       --------------  -----  \n",
            " 0   PassengerId  891 non-null    int64  \n",
            " 1   Survived     891 non-null    int64  \n",
            " 2   Pclass       891 non-null    int64  \n",
            " 3   Name         891 non-null    object \n",
            " 4   Sex          891 non-null    object \n",
            " 5   Age          714 non-null    float64\n",
            " 6   SibSp        891 non-null    int64  \n",
            " 7   Parch        891 non-null    int64  \n",
            " 8   Ticket       891 non-null    object \n",
            " 9   Fare         891 non-null    float64\n",
            " 10  Cabin        204 non-null    object \n",
            " 11  Embarked     889 non-null    object \n",
            "dtypes: float64(2), int64(5), object(5)\n",
            "memory usage: 83.7+ KB\n"
          ]
        }
      ]
    },
    {
      "cell_type": "code",
      "source": [
        "dataset.columns"
      ],
      "metadata": {
        "colab": {
          "base_uri": "https://localhost:8080/"
        },
        "id": "FpSglN5Upp3y",
        "outputId": "27f44af1-759d-417d-a58a-8b452d968052"
      },
      "execution_count": null,
      "outputs": [
        {
          "output_type": "execute_result",
          "data": {
            "text/plain": [
              "Index(['PassengerId', 'Survived', 'Pclass', 'Name', 'Sex', 'Age', 'SibSp',\n",
              "       'Parch', 'Ticket', 'Fare', 'Cabin', 'Embarked'],\n",
              "      dtype='object')"
            ]
          },
          "metadata": {},
          "execution_count": 11
        }
      ]
    },
    {
      "cell_type": "markdown",
      "source": [
        "**Understanding the distribution of Data through Skew:**\n",
        "\n",
        "---\n",
        "\n"
      ],
      "metadata": {
        "id": "1JnnjyDW8KmY"
      }
    },
    {
      "cell_type": "code",
      "source": [
        "dataset.skew()"
      ],
      "metadata": {
        "colab": {
          "base_uri": "https://localhost:8080/"
        },
        "id": "F1gEn-PYqzVu",
        "outputId": "f854916e-d10a-4ebb-d8f4-fd3191d68fb4"
      },
      "execution_count": null,
      "outputs": [
        {
          "output_type": "stream",
          "name": "stderr",
          "text": [
            "<ipython-input-12-8035be43cde7>:1: FutureWarning: The default value of numeric_only in DataFrame.skew is deprecated. In a future version, it will default to False. In addition, specifying 'numeric_only=None' is deprecated. Select only valid columns or specify the value of numeric_only to silence this warning.\n",
            "  dataset.skew()\n"
          ]
        },
        {
          "output_type": "execute_result",
          "data": {
            "text/plain": [
              "PassengerId    0.000000\n",
              "Survived       0.478523\n",
              "Pclass        -0.630548\n",
              "Age            0.389108\n",
              "SibSp          3.695352\n",
              "Parch          2.749117\n",
              "Fare           4.787317\n",
              "dtype: float64"
            ]
          },
          "metadata": {},
          "execution_count": 12
        }
      ]
    },
    {
      "cell_type": "markdown",
      "source": [
        "## *** The count plot shows there exists a class imbalance. ***"
      ],
      "metadata": {
        "id": "D-N1msu-9BCv"
      }
    },
    {
      "cell_type": "code",
      "source": [
        "sns.distplot(dataset[\"Fare\"])"
      ],
      "metadata": {
        "colab": {
          "base_uri": "https://localhost:8080/",
          "height": 657
        },
        "id": "2A84PHzt59s5",
        "outputId": "6e2aa22c-a9c7-44e6-bf69-452e64cf4f6f"
      },
      "execution_count": null,
      "outputs": [
        {
          "output_type": "stream",
          "name": "stderr",
          "text": [
            "<ipython-input-13-3338afca818f>:1: UserWarning: \n",
            "\n",
            "`distplot` is a deprecated function and will be removed in seaborn v0.14.0.\n",
            "\n",
            "Please adapt your code to use either `displot` (a figure-level function with\n",
            "similar flexibility) or `histplot` (an axes-level function for histograms).\n",
            "\n",
            "For a guide to updating your code to use the new functions, please see\n",
            "https://gist.github.com/mwaskom/de44147ed2974457ad6372750bbe5751\n",
            "\n",
            "  sns.distplot(dataset[\"Fare\"])\n"
          ]
        },
        {
          "output_type": "execute_result",
          "data": {
            "text/plain": [
              "<Axes: xlabel='Fare', ylabel='Density'>"
            ]
          },
          "metadata": {},
          "execution_count": 13
        },
        {
          "output_type": "display_data",
          "data": {
            "text/plain": [
              "<Figure size 640x480 with 1 Axes>"
            ],
            "image/png": "[encoded data removed]"
          },
          "metadata": {}
        }
      ]
    },
    {
      "cell_type": "code",
      "source": [
        "import numpy as np\n",
        "import pandas as pd\n",
        "from scipy.stats import boxcox\n",
        "from sklearn.preprocessing import PowerTransformer\n",
        "\n",
        "dataset['Fare_log'] = np.log(dataset['Fare'] + 1)\n"
      ],
      "metadata": {
        "id": "64GSEFFe6a-J"
      },
      "execution_count": null,
      "outputs": []
    },
    {
      "cell_type": "code",
      "source": [
        "sns.distplot(dataset['Fare_log'])"
      ],
      "metadata": {
        "colab": {
          "base_uri": "https://localhost:8080/",
          "height": 658
        },
        "id": "CzGP3QCR6dw1",
        "outputId": "a8493377-01cd-45f1-b85d-bdb86431b3c0"
      },
      "execution_count": null,
      "outputs": [
        {
          "output_type": "stream",
          "name": "stderr",
          "text": [
            "<ipython-input-15-0c085effab1a>:1: UserWarning: \n",
            "\n",
            "`distplot` is a deprecated function and will be removed in seaborn v0.14.0.\n",
            "\n",
            "Please adapt your code to use either `displot` (a figure-level function with\n",
            "similar flexibility) or `histplot` (an axes-level function for histograms).\n",
            "\n",
            "For a guide to updating your code to use the new functions, please see\n",
            "https://gist.github.com/mwaskom/de44147ed2974457ad6372750bbe5751\n",
            "\n",
            "  sns.distplot(dataset['Fare_log'])\n"
          ]
        },
        {
          "output_type": "execute_result",
          "data": {
            "text/plain": [
              "<Axes: xlabel='Fare_log', ylabel='Density'>"
            ]
          },
          "metadata": {},
          "execution_count": 15
        },
        {
          "output_type": "display_data",
          "data": {
            "text/plain": [
              "<Figure size 640x480 with 1 Axes>"
            ],
            "image/png": "[encoded data removed]"
          },
          "metadata": {}
        }
      ]
    },
    {
      "cell_type": "code",
      "source": [
        "dataset = dataset.drop(columns = ['Fare'])\n"
      ],
      "metadata": {
        "id": "G54YTNUv6rFL"
      },
      "execution_count": null,
      "outputs": []
    },
    {
      "cell_type": "code",
      "source": [
        "sns.distplot(dataset[\"Pclass\"])"
      ],
      "metadata": {
        "colab": {
          "base_uri": "https://localhost:8080/",
          "height": 657
        },
        "id": "ueFugakb-gAP",
        "outputId": "8dfb8099-37f0-451b-e5d0-aa076ed1c7c9"
      },
      "execution_count": null,
      "outputs": [
        {
          "output_type": "stream",
          "name": "stderr",
          "text": [
            "<ipython-input-17-fcf205519be6>:1: UserWarning: \n",
            "\n",
            "`distplot` is a deprecated function and will be removed in seaborn v0.14.0.\n",
            "\n",
            "Please adapt your code to use either `displot` (a figure-level function with\n",
            "similar flexibility) or `histplot` (an axes-level function for histograms).\n",
            "\n",
            "For a guide to updating your code to use the new functions, please see\n",
            "https://gist.github.com/mwaskom/de44147ed2974457ad6372750bbe5751\n",
            "\n",
            "  sns.distplot(dataset[\"Pclass\"])\n"
          ]
        },
        {
          "output_type": "execute_result",
          "data": {
            "text/plain": [
              "<Axes: xlabel='Pclass', ylabel='Density'>"
            ]
          },
          "metadata": {},
          "execution_count": 17
        },
        {
          "output_type": "display_data",
          "data": {
            "text/plain": [
              "<Figure size 640x480 with 1 Axes>"
            ],
            "image/png": "[encoded data removed]"
          },
          "metadata": {}
        }
      ]
    },
    {
      "cell_type": "code",
      "source": [
        "sns.distplot(dataset[\"Age\"])"
      ],
      "metadata": {
        "colab": {
          "base_uri": "https://localhost:8080/",
          "height": 657
        },
        "id": "q2Gm8szx_Dc-",
        "outputId": "176d4485-ef0b-4945-9caa-242da1bdcc4f"
      },
      "execution_count": null,
      "outputs": [
        {
          "output_type": "stream",
          "name": "stderr",
          "text": [
            "<ipython-input-18-388b185de253>:1: UserWarning: \n",
            "\n",
            "`distplot` is a deprecated function and will be removed in seaborn v0.14.0.\n",
            "\n",
            "Please adapt your code to use either `displot` (a figure-level function with\n",
            "similar flexibility) or `histplot` (an axes-level function for histograms).\n",
            "\n",
            "For a guide to updating your code to use the new functions, please see\n",
            "https://gist.github.com/mwaskom/de44147ed2974457ad6372750bbe5751\n",
            "\n",
            "  sns.distplot(dataset[\"Age\"])\n"
          ]
        },
        {
          "output_type": "execute_result",
          "data": {
            "text/plain": [
              "<Axes: xlabel='Age', ylabel='Density'>"
            ]
          },
          "metadata": {},
          "execution_count": 18
        },
        {
          "output_type": "display_data",
          "data": {
            "text/plain": [
              "<Figure size 640x480 with 1 Axes>"
            ],
            "image/png": "[encoded data removed]"
          },
          "metadata": {}
        }
      ]
    },
    {
      "cell_type": "code",
      "source": [
        "sns.distplot(dataset[\"Parch\"])"
      ],
      "metadata": {
        "colab": {
          "base_uri": "https://localhost:8080/",
          "height": 657
        },
        "id": "xBBBMxrz_Me5",
        "outputId": "ac9940a0-8809-4a45-a657-1dc52427857e"
      },
      "execution_count": null,
      "outputs": [
        {
          "output_type": "stream",
          "name": "stderr",
          "text": [
            "<ipython-input-19-311cf934f60a>:1: UserWarning: \n",
            "\n",
            "`distplot` is a deprecated function and will be removed in seaborn v0.14.0.\n",
            "\n",
            "Please adapt your code to use either `displot` (a figure-level function with\n",
            "similar flexibility) or `histplot` (an axes-level function for histograms).\n",
            "\n",
            "For a guide to updating your code to use the new functions, please see\n",
            "https://gist.github.com/mwaskom/de44147ed2974457ad6372750bbe5751\n",
            "\n",
            "  sns.distplot(dataset[\"Parch\"])\n"
          ]
        },
        {
          "output_type": "execute_result",
          "data": {
            "text/plain": [
              "<Axes: xlabel='Parch', ylabel='Density'>"
            ]
          },
          "metadata": {},
          "execution_count": 19
        },
        {
          "output_type": "display_data",
          "data": {
            "text/plain": [
              "<Figure size 640x480 with 1 Axes>"
            ],
            "image/png": "[encoded data removed]"
          },
          "metadata": {}
        }
      ]
    },
    {
      "cell_type": "code",
      "source": [
        "sns.distplot(dataset[\"SibSp\"])"
      ],
      "metadata": {
        "colab": {
          "base_uri": "https://localhost:8080/",
          "height": 657
        },
        "id": "fZJTsLRP_sgi",
        "outputId": "bf81c23c-9a11-47b4-e375-020081a69e4f"
      },
      "execution_count": null,
      "outputs": [
        {
          "output_type": "stream",
          "name": "stderr",
          "text": [
            "<ipython-input-20-74caab595486>:1: UserWarning: \n",
            "\n",
            "`distplot` is a deprecated function and will be removed in seaborn v0.14.0.\n",
            "\n",
            "Please adapt your code to use either `displot` (a figure-level function with\n",
            "similar flexibility) or `histplot` (an axes-level function for histograms).\n",
            "\n",
            "For a guide to updating your code to use the new functions, please see\n",
            "https://gist.github.com/mwaskom/de44147ed2974457ad6372750bbe5751\n",
            "\n",
            "  sns.distplot(dataset[\"SibSp\"])\n"
          ]
        },
        {
          "output_type": "execute_result",
          "data": {
            "text/plain": [
              "<Axes: xlabel='SibSp', ylabel='Density'>"
            ]
          },
          "metadata": {},
          "execution_count": 20
        },
        {
          "output_type": "display_data",
          "data": {
            "text/plain": [
              "<Figure size 640x480 with 1 Axes>"
            ],
            "image/png": "[encoded data removed]"
          },
          "metadata": {}
        }
      ]
    },
    {
      "cell_type": "code",
      "source": [
        "\n",
        "sns.countplot(x='Survived', data=dataset)\n",
        "plt.title('Distribution of Survived')\n",
        "plt.show()"
      ],
      "metadata": {
        "colab": {
          "base_uri": "https://localhost:8080/",
          "height": 472
        },
        "id": "i67TEDqG8dFe",
        "outputId": "54f349f4-831e-4b8a-d9a4-84a9b40fbdcf"
      },
      "execution_count": null,
      "outputs": [
        {
          "output_type": "display_data",
          "data": {
            "text/plain": [
              "<Figure size 640x480 with 1 Axes>"
            ],
            "image/png": "[encoded data removed]"
          },
          "metadata": {}
        }
      ]
    },
    {
      "cell_type": "code",
      "source": [
        "dataset.isnull().sum()"
      ],
      "metadata": {
        "colab": {
          "base_uri": "https://localhost:8080/"
        },
        "id": "1pVWJTQIqz42",
        "outputId": "ed8b6e22-3f71-452a-be4f-67c440d7fcc7"
      },
      "execution_count": null,
      "outputs": [
        {
          "output_type": "execute_result",
          "data": {
            "text/plain": [
              "PassengerId      0\n",
              "Survived         0\n",
              "Pclass           0\n",
              "Name             0\n",
              "Sex              0\n",
              "Age            177\n",
              "SibSp            0\n",
              "Parch            0\n",
              "Ticket           0\n",
              "Cabin          687\n",
              "Embarked         2\n",
              "Fare_log         0\n",
              "dtype: int64"
            ]
          },
          "metadata": {},
          "execution_count": 22
        }
      ]
    },
    {
      "cell_type": "code",
      "source": [
        "dataset.select_dtypes(include=(['int64','float64'])).isna().sum()"
      ],
      "metadata": {
        "colab": {
          "base_uri": "https://localhost:8080/"
        },
        "id": "8yOJ_UFyq4EI",
        "outputId": "3790485c-fc2a-4048-dcc5-d40e27b5aed9"
      },
      "execution_count": null,
      "outputs": [
        {
          "output_type": "execute_result",
          "data": {
            "text/plain": [
              "PassengerId      0\n",
              "Survived         0\n",
              "Pclass           0\n",
              "Age            177\n",
              "SibSp            0\n",
              "Parch            0\n",
              "Fare_log         0\n",
              "dtype: int64"
            ]
          },
          "metadata": {},
          "execution_count": 23
        }
      ]
    },
    {
      "cell_type": "code",
      "source": [
        "print(\"After handling missing values\")\n",
        "dataset.select_dtypes(include=(['int64','float64'])).isna().sum()\n",
        "df_num_col = dataset.select_dtypes(include=(['int64','float64'])).columns\n",
        "for c in df_num_col:\n",
        "  dataset[c].fillna(dataset[c].mean(),inplace=True)\n",
        "dataset.select_dtypes(include=(['int64','float64'])).isna().sum()\n"
      ],
      "metadata": {
        "colab": {
          "base_uri": "https://localhost:8080/"
        },
        "id": "6wjWYf2Dq8sM",
        "outputId": "67c6d204-d3d0-4ead-cd83-1d543d3b1f7d"
      },
      "execution_count": null,
      "outputs": [
        {
          "output_type": "stream",
          "name": "stdout",
          "text": [
            "After handling missing values\n"
          ]
        },
        {
          "output_type": "execute_result",
          "data": {
            "text/plain": [
              "PassengerId    0\n",
              "Survived       0\n",
              "Pclass         0\n",
              "Age            0\n",
              "SibSp          0\n",
              "Parch          0\n",
              "Fare_log       0\n",
              "dtype: int64"
            ]
          },
          "metadata": {},
          "execution_count": 24
        }
      ]
    },
    {
      "cell_type": "code",
      "source": [
        "dataset.select_dtypes(include=(['object'])).isna().sum()"
      ],
      "metadata": {
        "colab": {
          "base_uri": "https://localhost:8080/"
        },
        "id": "1l5WaLZQq_6X",
        "outputId": "71929001-83a6-40a5-8969-f3298856ba1c"
      },
      "execution_count": null,
      "outputs": [
        {
          "output_type": "execute_result",
          "data": {
            "text/plain": [
              "Name          0\n",
              "Sex           0\n",
              "Ticket        0\n",
              "Cabin       687\n",
              "Embarked      2\n",
              "dtype: int64"
            ]
          },
          "metadata": {},
          "execution_count": 25
        }
      ]
    },
    {
      "cell_type": "code",
      "source": [
        "dataset = dataset.drop(columns=['Cabin'])"
      ],
      "metadata": {
        "id": "2GreFVQCxRrM"
      },
      "execution_count": null,
      "outputs": []
    },
    {
      "cell_type": "code",
      "source": [
        "import pandas as pd\n",
        "\n",
        "categorical_variable = 'Sex'\n",
        "\n",
        "class_counts = dataset[categorical_variable].value_counts()\n",
        "\n",
        "print(\"Class counts for\", categorical_variable)\n",
        "print(class_counts)\n"
      ],
      "metadata": {
        "colab": {
          "base_uri": "https://localhost:8080/"
        },
        "id": "3h2-ZNuSAfAy",
        "outputId": "201036eb-00e5-4c02-9053-697fef513501"
      },
      "execution_count": null,
      "outputs": [
        {
          "output_type": "stream",
          "name": "stdout",
          "text": [
            "Class counts for Sex\n",
            "male      577\n",
            "female    314\n",
            "Name: Sex, dtype: int64\n"
          ]
        }
      ]
    },
    {
      "cell_type": "code",
      "source": [
        "import pandas as pd\n",
        "\n",
        "categorical_variable = 'Embarked'\n",
        "\n",
        "class_counts = dataset[categorical_variable].value_counts()\n",
        "\n",
        "print(\"Class counts for\", categorical_variable)\n",
        "print(class_counts)\n"
      ],
      "metadata": {
        "colab": {
          "base_uri": "https://localhost:8080/"
        },
        "id": "WP4qfRrzAmsC",
        "outputId": "edc2f5dc-5ef7-4fac-bc84-e8a3ad8dd4c0"
      },
      "execution_count": null,
      "outputs": [
        {
          "output_type": "stream",
          "name": "stdout",
          "text": [
            "Class counts for Embarked\n",
            "S    644\n",
            "C    168\n",
            "Q     77\n",
            "Name: Embarked, dtype: int64\n"
          ]
        }
      ]
    },
    {
      "cell_type": "code",
      "source": [
        "dataset[\"Name\"].unique()"
      ],
      "metadata": {
        "colab": {
          "base_uri": "https://localhost:8080/"
        },
        "id": "80oR6vwrBSlh",
        "outputId": "b7114714-3750-400f-a157-a1c565edac99"
      },
      "execution_count": null,
      "outputs": [
        {
          "output_type": "execute_result",
          "data": {
            "text/plain": [
              "array(['Braund, Mr. Owen Harris',\n",
              "       'Cumings, Mrs. John Bradley (Florence Briggs Thayer)',\n",
              "       'Heikkinen, Miss. Laina',\n",
              "       'Futrelle, Mrs. Jacques Heath (Lily May Peel)',\n",
              "       'Allen, Mr. William Henry', 'Moran, Mr. James',\n",
              "       'McCarthy, Mr. Timothy J', 'Palsson, Master. Gosta Leonard',\n",
              "       'Johnson, Mrs. Oscar W (Elisabeth Vilhelmina Berg)',\n",
              "       'Nasser, Mrs. Nicholas (Adele Achem)',\n",
              "       'Sandstrom, Miss. Marguerite Rut', 'Bonnell, Miss. Elizabeth',\n",
              "       'Saundercock, Mr. William Henry', 'Andersson, Mr. Anders Johan',\n",
              "       'Vestrom, Miss. Hulda Amanda Adolfina',\n",
              "       'Hewlett, Mrs. (Mary D Kingcome) ', 'Rice, Master. Eugene',\n",
              "       'Williams, Mr. Charles Eugene',\n",
              "       'Vander Planke, Mrs. Julius (Emelia Maria Vandemoortele)',\n",
              "       'Masselmani, Mrs. Fatima', 'Fynney, Mr. Joseph J',\n",
              "       'Beesley, Mr. Lawrence', 'McGowan, Miss. Anna \"Annie\"',\n",
              "       'Sloper, Mr. William Thompson', 'Palsson, Miss. Torborg Danira',\n",
              "       'Asplund, Mrs. Carl Oscar (Selma Augusta Emilia Johansson)',\n",
              "       'Emir, Mr. Farred Chehab', 'Fortune, Mr. Charles Alexander',\n",
              "       'O\\'Dwyer, Miss. Ellen \"Nellie\"', 'Todoroff, Mr. Lalio',\n",
              "       'Uruchurtu, Don. Manuel E',\n",
              "       'Spencer, Mrs. William Augustus (Marie Eugenie)',\n",
              "       'Glynn, Miss. Mary Agatha', 'Wheadon, Mr. Edward H',\n",
              "       'Meyer, Mr. Edgar Joseph', 'Holverson, Mr. Alexander Oskar',\n",
              "       'Mamee, Mr. Hanna', 'Cann, Mr. Ernest Charles',\n",
              "       'Vander Planke, Miss. Augusta Maria',\n",
              "       'Nicola-Yarred, Miss. Jamila',\n",
              "       'Ahlin, Mrs. Johan (Johanna Persdotter Larsson)',\n",
              "       'Turpin, Mrs. William John Robert (Dorothy Ann Wonnacott)',\n",
              "       'Kraeff, Mr. Theodor', 'Laroche, Miss. Simonne Marie Anne Andree',\n",
              "       'Devaney, Miss. Margaret Delia', 'Rogers, Mr. William John',\n",
              "       'Lennon, Mr. Denis', \"O'Driscoll, Miss. Bridget\",\n",
              "       'Samaan, Mr. Youssef',\n",
              "       'Arnold-Franchi, Mrs. Josef (Josefine Franchi)',\n",
              "       'Panula, Master. Juha Niilo', 'Nosworthy, Mr. Richard Cater',\n",
              "       'Harper, Mrs. Henry Sleeper (Myna Haxtun)',\n",
              "       'Faunthorpe, Mrs. Lizzie (Elizabeth Anne Wilkinson)',\n",
              "       'Ostby, Mr. Engelhart Cornelius', 'Woolner, Mr. Hugh',\n",
              "       'Rugg, Miss. Emily', 'Novel, Mr. Mansouer',\n",
              "       'West, Miss. Constance Mirium',\n",
              "       'Goodwin, Master. William Frederick', 'Sirayanian, Mr. Orsen',\n",
              "       'Icard, Miss. Amelie', 'Harris, Mr. Henry Birkhardt',\n",
              "       'Skoog, Master. Harald', 'Stewart, Mr. Albert A',\n",
              "       'Moubarek, Master. Gerios', 'Nye, Mrs. (Elizabeth Ramell)',\n",
              "       'Crease, Mr. Ernest James', 'Andersson, Miss. Erna Alexandra',\n",
              "       'Kink, Mr. Vincenz', 'Jenkin, Mr. Stephen Curnow',\n",
              "       'Goodwin, Miss. Lillian Amy', 'Hood, Mr. Ambrose Jr',\n",
              "       'Chronopoulos, Mr. Apostolos', 'Bing, Mr. Lee',\n",
              "       'Moen, Mr. Sigurd Hansen', 'Staneff, Mr. Ivan',\n",
              "       'Moutal, Mr. Rahamin Haim', 'Caldwell, Master. Alden Gates',\n",
              "       'Dowdell, Miss. Elizabeth', 'Waelens, Mr. Achille',\n",
              "       'Sheerlinck, Mr. Jan Baptist', 'McDermott, Miss. Brigdet Delia',\n",
              "       'Carrau, Mr. Francisco M', 'Ilett, Miss. Bertha',\n",
              "       'Backstrom, Mrs. Karl Alfred (Maria Mathilda Gustafsson)',\n",
              "       'Ford, Mr. William Neal', 'Slocovski, Mr. Selman Francis',\n",
              "       'Fortune, Miss. Mabel Helen', 'Celotti, Mr. Francesco',\n",
              "       'Christmann, Mr. Emil', 'Andreasson, Mr. Paul Edvin',\n",
              "       'Chaffee, Mr. Herbert Fuller', 'Dean, Mr. Bertram Frank',\n",
              "       'Coxon, Mr. Daniel', 'Shorney, Mr. Charles Joseph',\n",
              "       'Goldschmidt, Mr. George B', 'Greenfield, Mr. William Bertram',\n",
              "       'Doling, Mrs. John T (Ada Julia Bone)', 'Kantor, Mr. Sinai',\n",
              "       'Petranec, Miss. Matilda', 'Petroff, Mr. Pastcho (\"Pentcho\")',\n",
              "       'White, Mr. Richard Frasar', 'Johansson, Mr. Gustaf Joel',\n",
              "       'Gustafsson, Mr. Anders Vilhelm', 'Mionoff, Mr. Stoytcho',\n",
              "       'Salkjelsvik, Miss. Anna Kristine', 'Moss, Mr. Albert Johan',\n",
              "       'Rekic, Mr. Tido', 'Moran, Miss. Bertha',\n",
              "       'Porter, Mr. Walter Chamberlain', 'Zabour, Miss. Hileni',\n",
              "       'Barton, Mr. David John', 'Jussila, Miss. Katriina',\n",
              "       'Attalah, Miss. Malake', 'Pekoniemi, Mr. Edvard',\n",
              "       'Connors, Mr. Patrick', 'Turpin, Mr. William John Robert',\n",
              "       'Baxter, Mr. Quigg Edmond', 'Andersson, Miss. Ellis Anna Maria',\n",
              "       'Hickman, Mr. Stanley George', 'Moore, Mr. Leonard Charles',\n",
              "       'Nasser, Mr. Nicholas', 'Webber, Miss. Susan',\n",
              "       'White, Mr. Percival Wayland', 'Nicola-Yarred, Master. Elias',\n",
              "       'McMahon, Mr. Martin', 'Madsen, Mr. Fridtjof Arne',\n",
              "       'Peter, Miss. Anna', 'Ekstrom, Mr. Johan', 'Drazenoic, Mr. Jozef',\n",
              "       'Coelho, Mr. Domingos Fernandeo',\n",
              "       'Robins, Mrs. Alexander A (Grace Charity Laury)',\n",
              "       'Weisz, Mrs. Leopold (Mathilde Francoise Pede)',\n",
              "       'Sobey, Mr. Samuel James Hayden', 'Richard, Mr. Emile',\n",
              "       'Newsom, Miss. Helen Monypeny', 'Futrelle, Mr. Jacques Heath',\n",
              "       'Osen, Mr. Olaf Elon', 'Giglio, Mr. Victor',\n",
              "       'Boulos, Mrs. Joseph (Sultana)', 'Nysten, Miss. Anna Sofia',\n",
              "       'Hakkarainen, Mrs. Pekka Pietari (Elin Matilda Dolck)',\n",
              "       'Burke, Mr. Jeremiah', 'Andrew, Mr. Edgardo Samuel',\n",
              "       'Nicholls, Mr. Joseph Charles',\n",
              "       'Andersson, Mr. August Edvard (\"Wennerstrom\")',\n",
              "       'Ford, Miss. Robina Maggie \"Ruby\"',\n",
              "       'Navratil, Mr. Michel (\"Louis M Hoffman\")',\n",
              "       'Byles, Rev. Thomas Roussel Davids', 'Bateman, Rev. Robert James',\n",
              "       'Pears, Mrs. Thomas (Edith Wearne)', 'Meo, Mr. Alfonzo',\n",
              "       'van Billiard, Mr. Austin Blyler', 'Olsen, Mr. Ole Martin',\n",
              "       'Williams, Mr. Charles Duane', 'Gilnagh, Miss. Katherine \"Katie\"',\n",
              "       'Corn, Mr. Harry', 'Smiljanic, Mr. Mile',\n",
              "       'Sage, Master. Thomas Henry', 'Cribb, Mr. John Hatfield',\n",
              "       'Watt, Mrs. James (Elizabeth \"Bessie\" Inglis Milne)',\n",
              "       'Bengtsson, Mr. John Viktor', 'Calic, Mr. Jovo',\n",
              "       'Panula, Master. Eino Viljami',\n",
              "       'Goldsmith, Master. Frank John William \"Frankie\"',\n",
              "       'Chibnall, Mrs. (Edith Martha Bowerman)',\n",
              "       'Skoog, Mrs. William (Anna Bernhardina Karlsson)',\n",
              "       'Baumann, Mr. John D', 'Ling, Mr. Lee',\n",
              "       'Van der hoef, Mr. Wyckoff', 'Rice, Master. Arthur',\n",
              "       'Johnson, Miss. Eleanor Ileen', 'Sivola, Mr. Antti Wilhelm',\n",
              "       'Smith, Mr. James Clinch', 'Klasen, Mr. Klas Albin',\n",
              "       'Lefebre, Master. Henry Forbes', 'Isham, Miss. Ann Elizabeth',\n",
              "       'Hale, Mr. Reginald', 'Leonard, Mr. Lionel',\n",
              "       'Sage, Miss. Constance Gladys', 'Pernot, Mr. Rene',\n",
              "       'Asplund, Master. Clarence Gustaf Hugo',\n",
              "       'Becker, Master. Richard F', 'Kink-Heilmann, Miss. Luise Gretchen',\n",
              "       'Rood, Mr. Hugh Roscoe',\n",
              "       'O\\'Brien, Mrs. Thomas (Johanna \"Hannah\" Godfrey)',\n",
              "       'Romaine, Mr. Charles Hallace (\"Mr C Rolmane\")',\n",
              "       'Bourke, Mr. John', 'Turcin, Mr. Stjepan', 'Pinsky, Mrs. (Rosa)',\n",
              "       'Carbines, Mr. William',\n",
              "       'Andersen-Jensen, Miss. Carla Christine Nielsine',\n",
              "       'Navratil, Master. Michel M',\n",
              "       'Brown, Mrs. James Joseph (Margaret Tobin)',\n",
              "       'Lurette, Miss. Elise', 'Mernagh, Mr. Robert',\n",
              "       'Olsen, Mr. Karl Siegwart Andreas',\n",
              "       'Madigan, Miss. Margaret \"Maggie\"',\n",
              "       'Yrois, Miss. Henriette (\"Mrs Harbeck\")',\n",
              "       'Vande Walle, Mr. Nestor Cyriel', 'Sage, Mr. Frederick',\n",
              "       'Johanson, Mr. Jakob Alfred', 'Youseff, Mr. Gerious',\n",
              "       'Cohen, Mr. Gurshon \"Gus\"', 'Strom, Miss. Telma Matilda',\n",
              "       'Backstrom, Mr. Karl Alfred', 'Albimona, Mr. Nassef Cassem',\n",
              "       'Carr, Miss. Helen \"Ellen\"', 'Blank, Mr. Henry', 'Ali, Mr. Ahmed',\n",
              "       'Cameron, Miss. Clear Annie', 'Perkin, Mr. John Henry',\n",
              "       'Givard, Mr. Hans Kristensen', 'Kiernan, Mr. Philip',\n",
              "       'Newell, Miss. Madeleine', 'Honkanen, Miss. Eliina',\n",
              "       'Jacobsohn, Mr. Sidney Samuel', 'Bazzani, Miss. Albina',\n",
              "       'Harris, Mr. Walter', 'Sunderland, Mr. Victor Francis',\n",
              "       'Bracken, Mr. James H', 'Green, Mr. George Henry',\n",
              "       'Nenkoff, Mr. Christo', 'Hoyt, Mr. Frederick Maxfield',\n",
              "       'Berglund, Mr. Karl Ivar Sven', 'Mellors, Mr. William John',\n",
              "       'Lovell, Mr. John Hall (\"Henry\")', 'Fahlstrom, Mr. Arne Jonas',\n",
              "       'Lefebre, Miss. Mathilde',\n",
              "       'Harris, Mrs. Henry Birkhardt (Irene Wallach)',\n",
              "       'Larsson, Mr. Bengt Edvin', 'Sjostedt, Mr. Ernst Adolf',\n",
              "       'Asplund, Miss. Lillian Gertrud',\n",
              "       'Leyson, Mr. Robert William Norman',\n",
              "       'Harknett, Miss. Alice Phoebe', 'Hold, Mr. Stephen',\n",
              "       'Collyer, Miss. Marjorie \"Lottie\"',\n",
              "       'Pengelly, Mr. Frederick William', 'Hunt, Mr. George Henry',\n",
              "       'Zabour, Miss. Thamine', 'Murphy, Miss. Katherine \"Kate\"',\n",
              "       'Coleridge, Mr. Reginald Charles', 'Maenpaa, Mr. Matti Alexanteri',\n",
              "       'Attalah, Mr. Sleiman', 'Minahan, Dr. William Edward',\n",
              "       'Lindahl, Miss. Agda Thorilda Viktoria',\n",
              "       'Hamalainen, Mrs. William (Anna)', 'Beckwith, Mr. Richard Leonard',\n",
              "       'Carter, Rev. Ernest Courtenay', 'Reed, Mr. James George',\n",
              "       'Strom, Mrs. Wilhelm (Elna Matilda Persson)',\n",
              "       'Stead, Mr. William Thomas', 'Lobb, Mr. William Arthur',\n",
              "       'Rosblom, Mrs. Viktor (Helena Wilhelmina)',\n",
              "       'Touma, Mrs. Darwis (Hanne Youssef Razi)',\n",
              "       'Thorne, Mrs. Gertrude Maybelle', 'Cherry, Miss. Gladys',\n",
              "       'Ward, Miss. Anna', 'Parrish, Mrs. (Lutie Davis)',\n",
              "       'Smith, Mr. Thomas', 'Asplund, Master. Edvin Rojj Felix',\n",
              "       'Taussig, Mr. Emil', 'Harrison, Mr. William', 'Henry, Miss. Delia',\n",
              "       'Reeves, Mr. David', 'Panula, Mr. Ernesti Arvid',\n",
              "       'Persson, Mr. Ernst Ulrik',\n",
              "       'Graham, Mrs. William Thompson (Edith Junkins)',\n",
              "       'Bissette, Miss. Amelia', 'Cairns, Mr. Alexander',\n",
              "       'Tornquist, Mr. William Henry',\n",
              "       'Mellinger, Mrs. (Elizabeth Anne Maidment)',\n",
              "       'Natsch, Mr. Charles H', 'Healy, Miss. Hanora \"Nora\"',\n",
              "       'Andrews, Miss. Kornelia Theodosia',\n",
              "       'Lindblom, Miss. Augusta Charlotta', 'Parkes, Mr. Francis \"Frank\"',\n",
              "       'Rice, Master. Eric', 'Abbott, Mrs. Stanton (Rosa Hunt)',\n",
              "       'Duane, Mr. Frank', 'Olsson, Mr. Nils Johan Goransson',\n",
              "       'de Pelsmaeker, Mr. Alfons', 'Dorking, Mr. Edward Arthur',\n",
              "       'Smith, Mr. Richard William', 'Stankovic, Mr. Ivan',\n",
              "       'de Mulder, Mr. Theodore', 'Naidenoff, Mr. Penko',\n",
              "       'Hosono, Mr. Masabumi', 'Connolly, Miss. Kate',\n",
              "       'Barber, Miss. Ellen \"Nellie\"',\n",
              "       'Bishop, Mrs. Dickinson H (Helen Walton)',\n",
              "       'Levy, Mr. Rene Jacques', 'Haas, Miss. Aloisia',\n",
              "       'Mineff, Mr. Ivan', 'Lewy, Mr. Ervin G', 'Hanna, Mr. Mansour',\n",
              "       'Allison, Miss. Helen Loraine', 'Saalfeld, Mr. Adolphe',\n",
              "       'Baxter, Mrs. James (Helene DeLaudeniere Chaput)',\n",
              "       'Kelly, Miss. Anna Katherine \"Annie Kate\"', 'McCoy, Mr. Bernard',\n",
              "       'Johnson, Mr. William Cahoone Jr', 'Keane, Miss. Nora A',\n",
              "       'Williams, Mr. Howard Hugh \"Harry\"',\n",
              "       'Allison, Master. Hudson Trevor', 'Fleming, Miss. Margaret',\n",
              "       'Penasco y Castellana, Mrs. Victor de Satode (Maria Josefa Perez de Soto y Vallejo)',\n",
              "       'Abelson, Mr. Samuel', 'Francatelli, Miss. Laura Mabel',\n",
              "       'Hays, Miss. Margaret Bechstein', 'Ryerson, Miss. Emily Borie',\n",
              "       'Lahtinen, Mrs. William (Anna Sylfven)', 'Hendekovic, Mr. Ignjac',\n",
              "       'Hart, Mr. Benjamin', 'Nilsson, Miss. Helmina Josefina',\n",
              "       'Kantor, Mrs. Sinai (Miriam Sternin)', 'Moraweck, Dr. Ernest',\n",
              "       'Wick, Miss. Mary Natalie',\n",
              "       'Spedden, Mrs. Frederic Oakley (Margaretta Corning Stone)',\n",
              "       'Dennis, Mr. Samuel', 'Danoff, Mr. Yoto',\n",
              "       'Slayter, Miss. Hilda Mary',\n",
              "       'Caldwell, Mrs. Albert Francis (Sylvia Mae Harbaugh)',\n",
              "       'Sage, Mr. George John Jr', 'Young, Miss. Marie Grice',\n",
              "       'Nysveen, Mr. Johan Hansen', 'Ball, Mrs. (Ada E Hall)',\n",
              "       'Goldsmith, Mrs. Frank John (Emily Alice Brown)',\n",
              "       'Hippach, Miss. Jean Gertrude', 'McCoy, Miss. Agnes',\n",
              "       'Partner, Mr. Austen', 'Graham, Mr. George Edward',\n",
              "       'Vander Planke, Mr. Leo Edmondus',\n",
              "       'Frauenthal, Mrs. Henry William (Clara Heinsheimer)',\n",
              "       'Denkoff, Mr. Mitto', 'Pears, Mr. Thomas Clinton',\n",
              "       'Burns, Miss. Elizabeth Margaret', 'Dahl, Mr. Karl Edwart',\n",
              "       'Blackwell, Mr. Stephen Weart', 'Navratil, Master. Edmond Roger',\n",
              "       'Fortune, Miss. Alice Elizabeth', 'Collander, Mr. Erik Gustaf',\n",
              "       'Sedgwick, Mr. Charles Frederick Waddington',\n",
              "       'Fox, Mr. Stanley Hubert', 'Brown, Miss. Amelia \"Mildred\"',\n",
              "       'Smith, Miss. Marion Elsie',\n",
              "       'Davison, Mrs. Thomas Henry (Mary E Finck)',\n",
              "       'Coutts, Master. William Loch \"William\"', 'Dimic, Mr. Jovan',\n",
              "       'Odahl, Mr. Nils Martin', 'Williams-Lambert, Mr. Fletcher Fellows',\n",
              "       'Elias, Mr. Tannous', 'Arnold-Franchi, Mr. Josef',\n",
              "       'Yousif, Mr. Wazli', 'Vanden Steen, Mr. Leo Peter',\n",
              "       'Bowerman, Miss. Elsie Edith', 'Funk, Miss. Annie Clemmer',\n",
              "       'McGovern, Miss. Mary', 'Mockler, Miss. Helen Mary \"Ellie\"',\n",
              "       'Skoog, Mr. Wilhelm', 'del Carlo, Mr. Sebastiano',\n",
              "       'Barbara, Mrs. (Catherine David)', 'Asim, Mr. Adola',\n",
              "       \"O'Brien, Mr. Thomas\", 'Adahl, Mr. Mauritz Nils Martin',\n",
              "       'Warren, Mrs. Frank Manley (Anna Sophia Atkinson)',\n",
              "       'Moussa, Mrs. (Mantoura Boulos)', 'Jermyn, Miss. Annie',\n",
              "       'Aubart, Mme. Leontine Pauline', 'Harder, Mr. George Achilles',\n",
              "       'Wiklund, Mr. Jakob Alfred', 'Beavan, Mr. William Thomas',\n",
              "       'Ringhini, Mr. Sante', 'Palsson, Miss. Stina Viola',\n",
              "       'Meyer, Mrs. Edgar Joseph (Leila Saks)',\n",
              "       'Landergren, Miss. Aurora Adelia', 'Widener, Mr. Harry Elkins',\n",
              "       'Betros, Mr. Tannous', 'Gustafsson, Mr. Karl Gideon',\n",
              "       'Bidois, Miss. Rosalie', 'Nakid, Miss. Maria (\"Mary\")',\n",
              "       'Tikkanen, Mr. Juho',\n",
              "       'Holverson, Mrs. Alexander Oskar (Mary Aline Towner)',\n",
              "       'Plotcharsky, Mr. Vasil', 'Davies, Mr. Charles Henry',\n",
              "       'Goodwin, Master. Sidney Leonard', 'Buss, Miss. Kate',\n",
              "       'Sadlier, Mr. Matthew', 'Lehmann, Miss. Bertha',\n",
              "       'Carter, Mr. William Ernest', 'Jansson, Mr. Carl Olof',\n",
              "       'Gustafsson, Mr. Johan Birger', 'Newell, Miss. Marjorie',\n",
              "       'Sandstrom, Mrs. Hjalmar (Agnes Charlotta Bengtsson)',\n",
              "       'Johansson, Mr. Erik', 'Olsson, Miss. Elina',\n",
              "       'McKane, Mr. Peter David', 'Pain, Dr. Alfred',\n",
              "       'Trout, Mrs. William H (Jessie L)', 'Niskanen, Mr. Juha',\n",
              "       'Adams, Mr. John', 'Jussila, Miss. Mari Aina',\n",
              "       'Hakkarainen, Mr. Pekka Pietari', 'Oreskovic, Miss. Marija',\n",
              "       'Gale, Mr. Shadrach', 'Widegren, Mr. Carl/Charles Peter',\n",
              "       'Richards, Master. William Rowe',\n",
              "       'Birkeland, Mr. Hans Martin Monsen', 'Lefebre, Miss. Ida',\n",
              "       'Sdycoff, Mr. Todor', 'Hart, Mr. Henry', 'Minahan, Miss. Daisy E',\n",
              "       'Cunningham, Mr. Alfred Fleming', 'Sundman, Mr. Johan Julian',\n",
              "       'Meek, Mrs. Thomas (Annie Louise Rowley)',\n",
              "       'Drew, Mrs. James Vivian (Lulu Thorne Christian)',\n",
              "       'Silven, Miss. Lyyli Karoliina', 'Matthews, Mr. William John',\n",
              "       'Van Impe, Miss. Catharina', 'Gheorgheff, Mr. Stanio',\n",
              "       'Charters, Mr. David', 'Zimmerman, Mr. Leo',\n",
              "       'Danbom, Mrs. Ernst Gilbert (Anna Sigrid Maria Brogren)',\n",
              "       'Rosblom, Mr. Viktor Richard', 'Wiseman, Mr. Phillippe',\n",
              "       'Clarke, Mrs. Charles V (Ada Maria Winfield)',\n",
              "       'Phillips, Miss. Kate Florence (\"Mrs Kate Louise Phillips Marshall\")',\n",
              "       'Flynn, Mr. James', 'Pickard, Mr. Berk (Berk Trembisky)',\n",
              "       'Bjornstrom-Steffansson, Mr. Mauritz Hakan',\n",
              "       'Thorneycroft, Mrs. Percival (Florence Kate White)',\n",
              "       'Louch, Mrs. Charles Alexander (Alice Adelaide Slow)',\n",
              "       'Kallio, Mr. Nikolai Erland', 'Silvey, Mr. William Baird',\n",
              "       'Carter, Miss. Lucile Polk',\n",
              "       'Ford, Miss. Doolina Margaret \"Daisy\"',\n",
              "       'Richards, Mrs. Sidney (Emily Hocking)', 'Fortune, Mr. Mark',\n",
              "       'Kvillner, Mr. Johan Henrik Johannesson',\n",
              "       'Hart, Mrs. Benjamin (Esther Ada Bloomfield)', 'Hampe, Mr. Leon',\n",
              "       'Petterson, Mr. Johan Emil', 'Reynaldo, Ms. Encarnacion',\n",
              "       'Johannesen-Bratthammer, Mr. Bernt', 'Dodge, Master. Washington',\n",
              "       'Mellinger, Miss. Madeleine Violet', 'Seward, Mr. Frederic Kimber',\n",
              "       'Baclini, Miss. Marie Catherine', 'Peuchen, Major. Arthur Godfrey',\n",
              "       'West, Mr. Edwy Arthur', 'Hagland, Mr. Ingvald Olai Olsen',\n",
              "       'Foreman, Mr. Benjamin Laventall', 'Goldenberg, Mr. Samuel L',\n",
              "       'Peduzzi, Mr. Joseph', 'Jalsevac, Mr. Ivan',\n",
              "       'Millet, Mr. Francis Davis', 'Kenyon, Mrs. Frederick R (Marion)',\n",
              "       'Toomey, Miss. Ellen', \"O'Connor, Mr. Maurice\",\n",
              "       'Anderson, Mr. Harry', 'Morley, Mr. William', 'Gee, Mr. Arthur H',\n",
              "       'Milling, Mr. Jacob Christian', 'Maisner, Mr. Simon',\n",
              "       'Goncalves, Mr. Manuel Estanslas', 'Campbell, Mr. William',\n",
              "       'Smart, Mr. John Montgomery', 'Scanlan, Mr. James',\n",
              "       'Baclini, Miss. Helene Barbara', 'Keefe, Mr. Arthur',\n",
              "       'Cacic, Mr. Luka', 'West, Mrs. Edwy Arthur (Ada Mary Worth)',\n",
              "       'Jerwan, Mrs. Amin S (Marie Marthe Thuillard)',\n",
              "       'Strandberg, Miss. Ida Sofia', 'Clifford, Mr. George Quincy',\n",
              "       'Renouf, Mr. Peter Henry', 'Braund, Mr. Lewis Richard',\n",
              "       'Karlsson, Mr. Nils August', 'Hirvonen, Miss. Hildur E',\n",
              "       'Goodwin, Master. Harold Victor',\n",
              "       'Frost, Mr. Anthony Wood \"Archie\"', 'Rouse, Mr. Richard Henry',\n",
              "       'Turkula, Mrs. (Hedwig)', 'Bishop, Mr. Dickinson H',\n",
              "       'Lefebre, Miss. Jeannie',\n",
              "       'Hoyt, Mrs. Frederick Maxfield (Jane Anne Forby)',\n",
              "       'Kent, Mr. Edward Austin', 'Somerton, Mr. Francis William',\n",
              "       'Coutts, Master. Eden Leslie \"Neville\"',\n",
              "       'Hagland, Mr. Konrad Mathias Reiersen', 'Windelov, Mr. Einar',\n",
              "       'Molson, Mr. Harry Markland', 'Artagaveytia, Mr. Ramon',\n",
              "       'Stanley, Mr. Edward Roland', 'Yousseff, Mr. Gerious',\n",
              "       'Eustis, Miss. Elizabeth Mussey',\n",
              "       'Shellard, Mr. Frederick William',\n",
              "       'Allison, Mrs. Hudson J C (Bessie Waldo Daniels)',\n",
              "       'Svensson, Mr. Olof', 'Calic, Mr. Petar', 'Canavan, Miss. Mary',\n",
              "       \"O'Sullivan, Miss. Bridget Mary\", 'Laitinen, Miss. Kristina Sofia',\n",
              "       'Maioni, Miss. Roberta',\n",
              "       'Penasco y Castellana, Mr. Victor de Satode',\n",
              "       'Quick, Mrs. Frederick Charles (Jane Richards)',\n",
              "       'Bradley, Mr. George (\"George Arthur Brayton\")',\n",
              "       'Olsen, Mr. Henry Margido', 'Lang, Mr. Fang',\n",
              "       'Daly, Mr. Eugene Patrick', 'Webber, Mr. James',\n",
              "       'McGough, Mr. James Robert',\n",
              "       'Rothschild, Mrs. Martin (Elizabeth L. Barrett)',\n",
              "       'Coleff, Mr. Satio', 'Walker, Mr. William Anderson',\n",
              "       'Lemore, Mrs. (Amelia Milley)', 'Ryan, Mr. Patrick',\n",
              "       'Angle, Mrs. William A (Florence \"Mary\" Agnes Hughes)',\n",
              "       'Pavlovic, Mr. Stefo', 'Perreault, Miss. Anne', 'Vovk, Mr. Janko',\n",
              "       'Lahoud, Mr. Sarkis',\n",
              "       'Hippach, Mrs. Louis Albert (Ida Sophia Fischer)',\n",
              "       'Kassem, Mr. Fared', 'Farrell, Mr. James', 'Ridsdale, Miss. Lucy',\n",
              "       'Farthing, Mr. John', 'Salonen, Mr. Johan Werner',\n",
              "       'Hocking, Mr. Richard George', 'Quick, Miss. Phyllis May',\n",
              "       'Toufik, Mr. Nakli', 'Elias, Mr. Joseph Jr',\n",
              "       'Peter, Mrs. Catherine (Catherine Rizk)', 'Cacic, Miss. Marija',\n",
              "       'Hart, Miss. Eva Miriam', 'Butt, Major. Archibald Willingham',\n",
              "       'LeRoy, Miss. Bertha', 'Risien, Mr. Samuel Beard',\n",
              "       'Frolicher, Miss. Hedwig Margaritha', 'Crosby, Miss. Harriet R',\n",
              "       'Andersson, Miss. Ingeborg Constanzia',\n",
              "       'Andersson, Miss. Sigrid Elisabeth', 'Beane, Mr. Edward',\n",
              "       'Douglas, Mr. Walter Donald', 'Nicholson, Mr. Arthur Ernest',\n",
              "       'Beane, Mrs. Edward (Ethel Clarke)', 'Padro y Manent, Mr. Julian',\n",
              "       'Goldsmith, Mr. Frank John', 'Davies, Master. John Morgan Jr',\n",
              "       'Thayer, Mr. John Borland Jr', 'Sharp, Mr. Percival James R',\n",
              "       \"O'Brien, Mr. Timothy\", 'Leeni, Mr. Fahim (\"Philip Zenni\")',\n",
              "       'Ohman, Miss. Velin', 'Wright, Mr. George',\n",
              "       'Duff Gordon, Lady. (Lucille Christiana Sutherland) (\"Mrs Morgan\")',\n",
              "       'Robbins, Mr. Victor', 'Taussig, Mrs. Emil (Tillie Mandelbaum)',\n",
              "       'de Messemaeker, Mrs. Guillaume Joseph (Emma)',\n",
              "       'Morrow, Mr. Thomas Rowan', 'Sivic, Mr. Husein',\n",
              "       'Norman, Mr. Robert Douglas', 'Simmons, Mr. John',\n",
              "       'Meanwell, Miss. (Marion Ogden)', 'Davies, Mr. Alfred J',\n",
              "       'Stoytcheff, Mr. Ilia',\n",
              "       'Palsson, Mrs. Nils (Alma Cornelia Berglund)',\n",
              "       'Doharr, Mr. Tannous', 'Jonsson, Mr. Carl', 'Harris, Mr. George',\n",
              "       'Appleton, Mrs. Edward Dale (Charlotte Lamson)',\n",
              "       'Flynn, Mr. John Irwin (\"Irving\")', 'Kelly, Miss. Mary',\n",
              "       'Rush, Mr. Alfred George John', 'Patchett, Mr. George',\n",
              "       'Garside, Miss. Ethel',\n",
              "       'Silvey, Mrs. William Baird (Alice Munger)',\n",
              "       'Caram, Mrs. Joseph (Maria Elias)', 'Jussila, Mr. Eiriik',\n",
              "       'Christy, Miss. Julie Rachel',\n",
              "       'Thayer, Mrs. John Borland (Marian Longstreth Morris)',\n",
              "       'Downton, Mr. William James', 'Ross, Mr. John Hugo',\n",
              "       'Paulner, Mr. Uscher', 'Taussig, Miss. Ruth',\n",
              "       'Jarvis, Mr. John Denzil', 'Frolicher-Stehli, Mr. Maxmillian',\n",
              "       'Gilinski, Mr. Eliezer', 'Murdlin, Mr. Joseph',\n",
              "       'Rintamaki, Mr. Matti',\n",
              "       'Stephenson, Mrs. Walter Bertram (Martha Eustis)',\n",
              "       'Elsbury, Mr. William James', 'Bourke, Miss. Mary',\n",
              "       'Chapman, Mr. John Henry', 'Van Impe, Mr. Jean Baptiste',\n",
              "       'Leitch, Miss. Jessie Wills', 'Johnson, Mr. Alfred',\n",
              "       'Boulos, Mr. Hanna',\n",
              "       'Duff Gordon, Sir. Cosmo Edmund (\"Mr Morgan\")',\n",
              "       'Jacobsohn, Mrs. Sidney Samuel (Amy Frances Christy)',\n",
              "       'Slabenoff, Mr. Petco', 'Harrington, Mr. Charles H',\n",
              "       'Torber, Mr. Ernst William', 'Homer, Mr. Harry (\"Mr E Haven\")',\n",
              "       'Lindell, Mr. Edvard Bengtsson', 'Karaic, Mr. Milan',\n",
              "       'Daniel, Mr. Robert Williams',\n",
              "       'Laroche, Mrs. Joseph (Juliette Marie Louise Lafargue)',\n",
              "       'Shutes, Miss. Elizabeth W',\n",
              "       'Andersson, Mrs. Anders Johan (Alfrida Konstantia Brogren)',\n",
              "       'Jardin, Mr. Jose Neto', 'Murphy, Miss. Margaret Jane',\n",
              "       'Horgan, Mr. John', 'Brocklebank, Mr. William Alfred',\n",
              "       'Herman, Miss. Alice', 'Danbom, Mr. Ernst Gilbert',\n",
              "       'Lobb, Mrs. William Arthur (Cordelia K Stanlick)',\n",
              "       'Becker, Miss. Marion Louise', 'Gavey, Mr. Lawrence',\n",
              "       'Yasbeck, Mr. Antoni', 'Kimball, Mr. Edwin Nelson Jr',\n",
              "       'Nakid, Mr. Sahid', 'Hansen, Mr. Henry Damsgaard',\n",
              "       'Bowen, Mr. David John \"Dai\"', 'Sutton, Mr. Frederick',\n",
              "       'Kirkland, Rev. Charles Leonard', 'Longley, Miss. Gretchen Fiske',\n",
              "       'Bostandyeff, Mr. Guentcho', \"O'Connell, Mr. Patrick D\",\n",
              "       'Barkworth, Mr. Algernon Henry Wilson',\n",
              "       'Lundahl, Mr. Johan Svensson', 'Stahelin-Maeglin, Dr. Max',\n",
              "       'Parr, Mr. William Henry Marsh', 'Skoog, Miss. Mabel',\n",
              "       'Davis, Miss. Mary', 'Leinonen, Mr. Antti Gustaf',\n",
              "       'Collyer, Mr. Harvey', 'Panula, Mrs. Juha (Maria Emilia Ojala)',\n",
              "       'Thorneycroft, Mr. Percival', 'Jensen, Mr. Hans Peder',\n",
              "       'Sagesser, Mlle. Emma', 'Skoog, Miss. Margit Elizabeth',\n",
              "       'Foo, Mr. Choong', 'Baclini, Miss. Eugenie',\n",
              "       'Harper, Mr. Henry Sleeper', 'Cor, Mr. Liudevit',\n",
              "       'Simonius-Blumer, Col. Oberst Alfons', 'Willey, Mr. Edward',\n",
              "       'Stanley, Miss. Amy Zillah Elsie', 'Mitkoff, Mr. Mito',\n",
              "       'Doling, Miss. Elsie', 'Kalvik, Mr. Johannes Halvorsen',\n",
              "       'O\\'Leary, Miss. Hanora \"Norah\"', 'Hegarty, Miss. Hanora \"Nora\"',\n",
              "       'Hickman, Mr. Leonard Mark', 'Radeff, Mr. Alexander',\n",
              "       'Bourke, Mrs. John (Catherine)', 'Eitemiller, Mr. George Floyd',\n",
              "       'Newell, Mr. Arthur Webster', 'Frauenthal, Dr. Henry William',\n",
              "       'Badt, Mr. Mohamed', 'Colley, Mr. Edward Pomeroy',\n",
              "       'Coleff, Mr. Peju', 'Lindqvist, Mr. Eino William',\n",
              "       'Hickman, Mr. Lewis', 'Butler, Mr. Reginald Fenton',\n",
              "       'Rommetvedt, Mr. Knud Paust', 'Cook, Mr. Jacob',\n",
              "       'Taylor, Mrs. Elmer Zebley (Juliet Cummins Wright)',\n",
              "       'Brown, Mrs. Thomas William Solomon (Elizabeth Catherine Ford)',\n",
              "       'Davidson, Mr. Thornton', 'Mitchell, Mr. Henry Michael',\n",
              "       'Wilhelms, Mr. Charles', 'Watson, Mr. Ennis Hastings',\n",
              "       'Edvardsson, Mr. Gustaf Hjalmar', 'Sawyer, Mr. Frederick Charles',\n",
              "       'Turja, Miss. Anna Sofia',\n",
              "       'Goodwin, Mrs. Frederick (Augusta Tyler)',\n",
              "       'Cardeza, Mr. Thomas Drake Martinez', 'Peters, Miss. Katie',\n",
              "       'Hassab, Mr. Hammad', 'Olsvigen, Mr. Thor Anderson',\n",
              "       'Goodwin, Mr. Charles Edward', 'Brown, Mr. Thomas William Solomon',\n",
              "       'Laroche, Mr. Joseph Philippe Lemercier',\n",
              "       'Panula, Mr. Jaako Arnold', 'Dakic, Mr. Branko',\n",
              "       'Fischer, Mr. Eberhard Thelander',\n",
              "       'Madill, Miss. Georgette Alexandra', 'Dick, Mr. Albert Adrian',\n",
              "       'Karun, Miss. Manca', 'Lam, Mr. Ali', 'Saad, Mr. Khalil',\n",
              "       'Weir, Col. John', 'Chapman, Mr. Charles Henry',\n",
              "       'Kelly, Mr. James', 'Mullens, Miss. Katherine \"Katie\"',\n",
              "       'Thayer, Mr. John Borland',\n",
              "       'Humblen, Mr. Adolf Mathias Nicolai Olsen',\n",
              "       'Astor, Mrs. John Jacob (Madeleine Talmadge Force)',\n",
              "       'Silverthorne, Mr. Spencer Victor', 'Barbara, Miss. Saiide',\n",
              "       'Gallagher, Mr. Martin', 'Hansen, Mr. Henrik Juul',\n",
              "       'Morley, Mr. Henry Samuel (\"Mr Henry Marshall\")',\n",
              "       'Kelly, Mrs. Florence \"Fannie\"',\n",
              "       'Calderhead, Mr. Edward Pennington', 'Cleaver, Miss. Alice',\n",
              "       'Moubarek, Master. Halim Gonios (\"William George\")',\n",
              "       'Mayne, Mlle. Berthe Antonine (\"Mrs de Villiers\")',\n",
              "       'Klaber, Mr. Herman', 'Taylor, Mr. Elmer Zebley',\n",
              "       'Larsson, Mr. August Viktor', 'Greenberg, Mr. Samuel',\n",
              "       'Soholt, Mr. Peter Andreas Lauritz Andersen',\n",
              "       'Endres, Miss. Caroline Louise',\n",
              "       'Troutt, Miss. Edwina Celia \"Winnie\"', 'McEvoy, Mr. Michael',\n",
              "       'Johnson, Mr. Malkolm Joackim',\n",
              "       'Harper, Miss. Annie Jessie \"Nina\"', 'Jensen, Mr. Svend Lauritz',\n",
              "       'Gillespie, Mr. William Henry', 'Hodges, Mr. Henry Price',\n",
              "       'Chambers, Mr. Norman Campbell', 'Oreskovic, Mr. Luka',\n",
              "       'Renouf, Mrs. Peter Henry (Lillian Jefferys)',\n",
              "       'Mannion, Miss. Margareth', 'Bryhl, Mr. Kurt Arnold Gottfrid',\n",
              "       'Ilmakangas, Miss. Pieta Sofia', 'Allen, Miss. Elisabeth Walton',\n",
              "       'Hassan, Mr. Houssein G N', 'Knight, Mr. Robert J',\n",
              "       'Berriman, Mr. William John', 'Troupiansky, Mr. Moses Aaron',\n",
              "       'Williams, Mr. Leslie', 'Ford, Mrs. Edward (Margaret Ann Watson)',\n",
              "       'Lesurer, Mr. Gustave J', 'Ivanoff, Mr. Kanio',\n",
              "       'Nankoff, Mr. Minko', 'Hawksford, Mr. Walter James',\n",
              "       'Cavendish, Mr. Tyrell William',\n",
              "       'Ryerson, Miss. Susan Parker \"Suzette\"', 'McNamee, Mr. Neal',\n",
              "       'Stranden, Mr. Juho', 'Crosby, Capt. Edward Gifford',\n",
              "       'Abbott, Mr. Rossmore Edward', 'Sinkkonen, Miss. Anna',\n",
              "       'Marvin, Mr. Daniel Warner', 'Connaghton, Mr. Michael',\n",
              "       'Wells, Miss. Joan', 'Moor, Master. Meier',\n",
              "       'Vande Velde, Mr. Johannes Joseph', 'Jonkoff, Mr. Lalio',\n",
              "       'Herman, Mrs. Samuel (Jane Laver)', 'Hamalainen, Master. Viljo',\n",
              "       'Carlsson, Mr. August Sigfrid', 'Bailey, Mr. Percy Andrew',\n",
              "       'Theobald, Mr. Thomas Leonard',\n",
              "       'Rothes, the Countess. of (Lucy Noel Martha Dyer-Edwards)',\n",
              "       'Garfirth, Mr. John', 'Nirva, Mr. Iisakki Antino Aijo',\n",
              "       'Barah, Mr. Hanna Assi',\n",
              "       'Carter, Mrs. William Ernest (Lucile Polk)',\n",
              "       'Eklund, Mr. Hans Linus', 'Hogeboom, Mrs. John C (Anna Andrews)',\n",
              "       'Brewe, Dr. Arthur Jackson', 'Mangan, Miss. Mary',\n",
              "       'Moran, Mr. Daniel J', 'Gronnestad, Mr. Daniel Danielsen',\n",
              "       'Lievens, Mr. Rene Aime', 'Jensen, Mr. Niels Peder',\n",
              "       'Mack, Mrs. (Mary)', 'Elias, Mr. Dibo',\n",
              "       'Hocking, Mrs. Elizabeth (Eliza Needs)',\n",
              "       'Myhrman, Mr. Pehr Fabian Oliver Malkolm', 'Tobin, Mr. Roger',\n",
              "       'Emanuel, Miss. Virginia Ethel', 'Kilgannon, Mr. Thomas J',\n",
              "       'Robert, Mrs. Edward Scott (Elisabeth Walton McMillan)',\n",
              "       'Ayoub, Miss. Banoura',\n",
              "       'Dick, Mrs. Albert Adrian (Vera Gillespie)',\n",
              "       'Long, Mr. Milton Clyde', 'Johnston, Mr. Andrew G',\n",
              "       'Ali, Mr. William', 'Harmer, Mr. Abraham (David Lishin)',\n",
              "       'Sjoblom, Miss. Anna Sofia', 'Rice, Master. George Hugh',\n",
              "       'Dean, Master. Bertram Vere', 'Guggenheim, Mr. Benjamin',\n",
              "       'Keane, Mr. Andrew \"Andy\"', 'Gaskell, Mr. Alfred',\n",
              "       'Sage, Miss. Stella Anna', 'Hoyt, Mr. William Fisher',\n",
              "       'Dantcheff, Mr. Ristiu', 'Otter, Mr. Richard',\n",
              "       'Leader, Dr. Alice (Farnham)', 'Osman, Mrs. Mara',\n",
              "       'Ibrahim Shawah, Mr. Yousseff',\n",
              "       'Van Impe, Mrs. Jean Baptiste (Rosalie Paula Govaert)',\n",
              "       'Ponesell, Mr. Martin',\n",
              "       'Collyer, Mrs. Harvey (Charlotte Annie Tate)',\n",
              "       'Carter, Master. William Thornton II',\n",
              "       'Thomas, Master. Assad Alexander', 'Hedman, Mr. Oskar Arvid',\n",
              "       'Johansson, Mr. Karl Johan', 'Andrews, Mr. Thomas Jr',\n",
              "       'Pettersson, Miss. Ellen Natalia', 'Meyer, Mr. August',\n",
              "       'Chambers, Mrs. Norman Campbell (Bertha Griggs)',\n",
              "       'Alexander, Mr. William', 'Lester, Mr. James',\n",
              "       'Slemen, Mr. Richard James', 'Andersson, Miss. Ebba Iris Alfrida',\n",
              "       'Tomlin, Mr. Ernest Portage', 'Fry, Mr. Richard',\n",
              "       'Heininen, Miss. Wendla Maria', 'Mallet, Mr. Albert',\n",
              "       'Holm, Mr. John Fredrik Alexander', 'Skoog, Master. Karl Thorsten',\n",
              "       'Hays, Mrs. Charles Melville (Clara Jennings Gregg)',\n",
              "       'Lulic, Mr. Nikola', 'Reuchlin, Jonkheer. John George',\n",
              "       'Moor, Mrs. (Beila)', 'Panula, Master. Urho Abraham',\n",
              "       'Flynn, Mr. John', 'Lam, Mr. Len', 'Mallet, Master. Andre',\n",
              "       'McCormack, Mr. Thomas Joseph',\n",
              "       'Stone, Mrs. George Nelson (Martha Evelyn)',\n",
              "       'Yasbeck, Mrs. Antoni (Selini Alexander)',\n",
              "       'Richards, Master. George Sibley', 'Saad, Mr. Amin',\n",
              "       'Augustsson, Mr. Albert', 'Allum, Mr. Owen George',\n",
              "       'Compton, Miss. Sara Rebecca', 'Pasic, Mr. Jakob',\n",
              "       'Sirota, Mr. Maurice', 'Chip, Mr. Chang', 'Marechal, Mr. Pierre',\n",
              "       'Alhomaki, Mr. Ilmari Rudolf', 'Mudd, Mr. Thomas Charles',\n",
              "       'Serepeca, Miss. Augusta', 'Lemberopolous, Mr. Peter L',\n",
              "       'Culumovic, Mr. Jeso', 'Abbing, Mr. Anthony',\n",
              "       'Sage, Mr. Douglas Bullen', 'Markoff, Mr. Marin',\n",
              "       'Harper, Rev. John',\n",
              "       'Goldenberg, Mrs. Samuel L (Edwiga Grabowska)',\n",
              "       'Andersson, Master. Sigvard Harald Elias', 'Svensson, Mr. Johan',\n",
              "       'Boulos, Miss. Nourelain', 'Lines, Miss. Mary Conover',\n",
              "       'Carter, Mrs. Ernest Courtenay (Lilian Hughes)',\n",
              "       'Aks, Mrs. Sam (Leah Rosen)',\n",
              "       'Wick, Mrs. George Dennick (Mary Hitchcock)',\n",
              "       'Daly, Mr. Peter Denis ', 'Baclini, Mrs. Solomon (Latifa Qurban)',\n",
              "       'Razi, Mr. Raihed', 'Hansen, Mr. Claus Peter',\n",
              "       'Giles, Mr. Frederick Edward',\n",
              "       'Swift, Mrs. Frederick Joel (Margaret Welles Barron)',\n",
              "       'Sage, Miss. Dorothy Edith \"Dolly\"', 'Gill, Mr. John William',\n",
              "       'Bystrom, Mrs. (Karolina)', 'Duran y More, Miss. Asuncion',\n",
              "       'Roebling, Mr. Washington Augustus II',\n",
              "       'van Melkebeke, Mr. Philemon', 'Johnson, Master. Harold Theodor',\n",
              "       'Balkic, Mr. Cerin',\n",
              "       'Beckwith, Mrs. Richard Leonard (Sallie Monypeny)',\n",
              "       'Carlsson, Mr. Frans Olof', 'Vander Cruyssen, Mr. Victor',\n",
              "       'Abelson, Mrs. Samuel (Hannah Wizosky)',\n",
              "       'Najib, Miss. Adele Kiamie \"Jane\"',\n",
              "       'Gustafsson, Mr. Alfred Ossian', 'Petroff, Mr. Nedelio',\n",
              "       'Laleff, Mr. Kristo',\n",
              "       'Potter, Mrs. Thomas Jr (Lily Alexenia Wilson)',\n",
              "       'Shelley, Mrs. William (Imanita Parrish Hall)',\n",
              "       'Markun, Mr. Johann', 'Dahlberg, Miss. Gerda Ulrika',\n",
              "       'Banfield, Mr. Frederick James', 'Sutehall, Mr. Henry Jr',\n",
              "       'Rice, Mrs. William (Margaret Norton)', 'Montvila, Rev. Juozas',\n",
              "       'Graham, Miss. Margaret Edith',\n",
              "       'Johnston, Miss. Catherine Helen \"Carrie\"',\n",
              "       'Behr, Mr. Karl Howell', 'Dooley, Mr. Patrick'], dtype=object)"
            ]
          },
          "metadata": {},
          "execution_count": 29
        }
      ]
    },
    {
      "cell_type": "code",
      "source": [
        "dataset[\"Ticket\"].unique()"
      ],
      "metadata": {
        "colab": {
          "base_uri": "https://localhost:8080/"
        },
        "id": "KQW5AsVPBYqT",
        "outputId": "8411c9e1-6a11-405d-b1d2-8ebf6c458c05"
      },
      "execution_count": null,
      "outputs": [
        {
          "output_type": "execute_result",
          "data": {
            "text/plain": [
              "array(['A/5 21171', 'PC 17599', 'STON/O2. 3101282', '113803', '373450',\n",
              "       '330877', '17463', '349909', '347742', '237736', 'PP 9549',\n",
              "       '113783', 'A/5. 2151', '347082', '350406', '248706', '382652',\n",
              "       '244373', '345763', '2649', '239865', '248698', '330923', '113788',\n",
              "       '347077', '2631', '19950', '330959', '349216', 'PC 17601',\n",
              "       'PC 17569', '335677', 'C.A. 24579', 'PC 17604', '113789', '2677',\n",
              "       'A./5. 2152', '345764', '2651', '7546', '11668', '349253',\n",
              "       'SC/Paris 2123', '330958', 'S.C./A.4. 23567', '370371', '14311',\n",
              "       '2662', '349237', '3101295', 'A/4. 39886', 'PC 17572', '2926',\n",
              "       '113509', '19947', 'C.A. 31026', '2697', 'C.A. 34651', 'CA 2144',\n",
              "       '2669', '113572', '36973', '347088', 'PC 17605', '2661',\n",
              "       'C.A. 29395', 'S.P. 3464', '3101281', '315151', 'C.A. 33111',\n",
              "       'S.O.C. 14879', '2680', '1601', '348123', '349208', '374746',\n",
              "       '248738', '364516', '345767', '345779', '330932', '113059',\n",
              "       'SO/C 14885', '3101278', 'W./C. 6608', 'SOTON/OQ 392086', '343275',\n",
              "       '343276', '347466', 'W.E.P. 5734', 'C.A. 2315', '364500', '374910',\n",
              "       'PC 17754', 'PC 17759', '231919', '244367', '349245', '349215',\n",
              "       '35281', '7540', '3101276', '349207', '343120', '312991', '349249',\n",
              "       '371110', '110465', '2665', '324669', '4136', '2627',\n",
              "       'STON/O 2. 3101294', '370369', 'PC 17558', 'A4. 54510', '27267',\n",
              "       '370372', 'C 17369', '2668', '347061', '349241',\n",
              "       'SOTON/O.Q. 3101307', 'A/5. 3337', '228414', 'C.A. 29178',\n",
              "       'SC/PARIS 2133', '11752', '7534', 'PC 17593', '2678', '347081',\n",
              "       'STON/O2. 3101279', '365222', '231945', 'C.A. 33112', '350043',\n",
              "       '230080', '244310', 'S.O.P. 1166', '113776', 'A.5. 11206',\n",
              "       'A/5. 851', 'Fa 265302', 'PC 17597', '35851', 'SOTON/OQ 392090',\n",
              "       '315037', 'CA. 2343', '371362', 'C.A. 33595', '347068', '315093',\n",
              "       '363291', '113505', 'PC 17318', '111240', 'STON/O 2. 3101280',\n",
              "       '17764', '350404', '4133', 'PC 17595', '250653', 'LINE',\n",
              "       'SC/PARIS 2131', '230136', '315153', '113767', '370365', '111428',\n",
              "       '364849', '349247', '234604', '28424', '350046', 'PC 17610',\n",
              "       '368703', '4579', '370370', '248747', '345770', '3101264', '2628',\n",
              "       'A/5 3540', '347054', '2699', '367231', '112277',\n",
              "       'SOTON/O.Q. 3101311', 'F.C.C. 13528', 'A/5 21174', '250646',\n",
              "       '367229', '35273', 'STON/O2. 3101283', '243847', '11813',\n",
              "       'W/C 14208', 'SOTON/OQ 392089', '220367', '21440', '349234',\n",
              "       '19943', 'PP 4348', 'SW/PP 751', 'A/5 21173', '236171', '347067',\n",
              "       '237442', 'C.A. 29566', 'W./C. 6609', '26707', 'C.A. 31921',\n",
              "       '28665', 'SCO/W 1585', '367230', 'W./C. 14263',\n",
              "       'STON/O 2. 3101275', '2694', '19928', '347071', '250649', '11751',\n",
              "       '244252', '362316', '113514', 'A/5. 3336', '370129', '2650',\n",
              "       'PC 17585', '110152', 'PC 17755', '230433', '384461', '110413',\n",
              "       '112059', '382649', 'C.A. 17248', '347083', 'PC 17582', 'PC 17760',\n",
              "       '113798', '250644', 'PC 17596', '370375', '13502', '347073',\n",
              "       '239853', 'C.A. 2673', '336439', '347464', '345778', 'A/5. 10482',\n",
              "       '113056', '349239', '345774', '349206', '237798', '370373',\n",
              "       '19877', '11967', 'SC/Paris 2163', '349236', '349233', 'PC 17612',\n",
              "       '2693', '113781', '19988', '9234', '367226', '226593', 'A/5 2466',\n",
              "       '17421', 'PC 17758', 'P/PP 3381', 'PC 17485', '11767', 'PC 17608',\n",
              "       '250651', '349243', 'F.C.C. 13529', '347470', '29011', '36928',\n",
              "       '16966', 'A/5 21172', '349219', '234818', '345364', '28551',\n",
              "       '111361', '113043', 'PC 17611', '349225', '7598', '113784',\n",
              "       '248740', '244361', '229236', '248733', '31418', '386525',\n",
              "       'C.A. 37671', '315088', '7267', '113510', '2695', '2647', '345783',\n",
              "       '237671', '330931', '330980', 'SC/PARIS 2167', '2691',\n",
              "       'SOTON/O.Q. 3101310', 'C 7076', '110813', '2626', '14313',\n",
              "       'PC 17477', '11765', '3101267', '323951', 'C 7077', '113503',\n",
              "       '2648', '347069', 'PC 17757', '2653', 'STON/O 2. 3101293',\n",
              "       '349227', '27849', '367655', 'SC 1748', '113760', '350034',\n",
              "       '3101277', '350052', '350407', '28403', '244278', '240929',\n",
              "       'STON/O 2. 3101289', '341826', '4137', '315096', '28664', '347064',\n",
              "       '29106', '312992', '349222', '394140', 'STON/O 2. 3101269',\n",
              "       '343095', '28220', '250652', '28228', '345773', '349254',\n",
              "       'A/5. 13032', '315082', '347080', 'A/4. 34244', '2003', '250655',\n",
              "       '364851', 'SOTON/O.Q. 392078', '110564', '376564', 'SC/AH 3085',\n",
              "       'STON/O 2. 3101274', '13507', 'C.A. 18723', '345769', '347076',\n",
              "       '230434', '65306', '33638', '113794', '2666', '113786', '65303',\n",
              "       '113051', '17453', 'A/5 2817', '349240', '13509', '17464',\n",
              "       'F.C.C. 13531', '371060', '19952', '364506', '111320', '234360',\n",
              "       'A/S 2816', 'SOTON/O.Q. 3101306', '113792', '36209', '323592',\n",
              "       '315089', 'SC/AH Basle 541', '7553', '31027', '3460', '350060',\n",
              "       '3101298', '239854', 'A/5 3594', '4134', '11771', 'A.5. 18509',\n",
              "       '65304', 'SOTON/OQ 3101317', '113787', 'PC 17609', 'A/4 45380',\n",
              "       '36947', 'C.A. 6212', '350035', '315086', '364846', '330909',\n",
              "       '4135', '26360', '111427', 'C 4001', '382651', 'SOTON/OQ 3101316',\n",
              "       'PC 17473', 'PC 17603', '349209', '36967', 'C.A. 34260', '226875',\n",
              "       '349242', '12749', '349252', '2624', '2700', '367232',\n",
              "       'W./C. 14258', 'PC 17483', '3101296', '29104', '2641', '2690',\n",
              "       '315084', '113050', 'PC 17761', '364498', '13568', 'WE/P 5735',\n",
              "       '2908', '693', 'SC/PARIS 2146', '244358', '330979', '2620',\n",
              "       '347085', '113807', '11755', '345572', '372622', '349251',\n",
              "       '218629', 'SOTON/OQ 392082', 'SOTON/O.Q. 392087', 'A/4 48871',\n",
              "       '349205', '2686', '350417', 'S.W./PP 752', '11769', 'PC 17474',\n",
              "       '14312', 'A/4. 20589', '358585', '243880', '2689',\n",
              "       'STON/O 2. 3101286', '237789', '13049', '3411', '237565', '13567',\n",
              "       '14973', 'A./5. 3235', 'STON/O 2. 3101273', 'A/5 3902', '364848',\n",
              "       'SC/AH 29037', '248727', '2664', '349214', '113796', '364511',\n",
              "       '111426', '349910', '349246', '113804', 'SOTON/O.Q. 3101305',\n",
              "       '370377', '364512', '220845', '31028', '2659', '11753', '350029',\n",
              "       '54636', '36963', '219533', '349224', '334912', '27042', '347743',\n",
              "       '13214', '112052', '237668', 'STON/O 2. 3101292', '350050',\n",
              "       '349231', '13213', 'S.O./P.P. 751', 'CA. 2314', '349221', '8475',\n",
              "       '330919', '365226', '349223', '29751', '2623', '5727', '349210',\n",
              "       'STON/O 2. 3101285', '234686', '312993', 'A/5 3536', '19996',\n",
              "       '29750', 'F.C. 12750', 'C.A. 24580', '244270', '239856', '349912',\n",
              "       '342826', '4138', '330935', '6563', '349228', '350036', '24160',\n",
              "       '17474', '349256', '2672', '113800', '248731', '363592', '35852',\n",
              "       '348121', 'PC 17475', '36864', '350025', '223596', 'PC 17476',\n",
              "       'PC 17482', '113028', '7545', '250647', '348124', '34218', '36568',\n",
              "       '347062', '350048', '12233', '250643', '113806', '315094', '36866',\n",
              "       '236853', 'STON/O2. 3101271', '239855', '28425', '233639',\n",
              "       '349201', '349218', '16988', '376566', 'STON/O 2. 3101288',\n",
              "       '250648', '113773', '335097', '29103', '392096', '345780',\n",
              "       '349204', '350042', '29108', '363294', 'SOTON/O2 3101272', '2663',\n",
              "       '347074', '112379', '364850', '8471', '345781', '350047',\n",
              "       'S.O./P.P. 3', '2674', '29105', '347078', '383121', '36865',\n",
              "       '2687', '113501', 'W./C. 6607', 'SOTON/O.Q. 3101312', '374887',\n",
              "       '3101265', '12460', 'PC 17600', '349203', '28213', '17465',\n",
              "       '349244', '2685', '2625', '347089', '347063', '112050', '347087',\n",
              "       '248723', '3474', '28206', '364499', '112058', 'STON/O2. 3101290',\n",
              "       'S.C./PARIS 2079', 'C 7075', '315098', '19972', '368323', '367228',\n",
              "       '2671', '347468', '2223', 'PC 17756', '315097', '392092', '11774',\n",
              "       'SOTON/O2 3101287', '2683', '315090', 'C.A. 5547', '349213',\n",
              "       '347060', 'PC 17592', '392091', '113055', '2629', '350026',\n",
              "       '28134', '17466', '233866', '236852', 'SC/PARIS 2149', 'PC 17590',\n",
              "       '345777', '349248', '695', '345765', '2667', '349212', '349217',\n",
              "       '349257', '7552', 'C.A./SOTON 34068', 'SOTON/OQ 392076', '211536',\n",
              "       '112053', '111369', '370376'], dtype=object)"
            ]
          },
          "metadata": {},
          "execution_count": 30
        }
      ]
    },
    {
      "cell_type": "code",
      "source": [
        "dataset = dataset.drop(columns=['Name'])"
      ],
      "metadata": {
        "id": "nczXnCIIv4WU"
      },
      "execution_count": null,
      "outputs": []
    },
    {
      "cell_type": "code",
      "source": [
        "dataset = dataset.drop(columns=['Ticket'])"
      ],
      "metadata": {
        "id": "iUA01QtBtyFq"
      },
      "execution_count": null,
      "outputs": []
    },
    {
      "cell_type": "code",
      "source": [
        "print(\"After handling missing values\")\n",
        "dataset.select_dtypes(include=(['object'])).isna().sum()\n",
        "df_num_col = dataset.select_dtypes(include=(['object'])).columns\n",
        "for c in df_num_col:\n",
        "  dataset[c].fillna(dataset[c].mode().values[0],inplace=True)\n",
        "dataset.select_dtypes(include=(['object'])).isna().sum()\n"
      ],
      "metadata": {
        "colab": {
          "base_uri": "https://localhost:8080/"
        },
        "id": "yDnsJR5zrGVB",
        "outputId": "92420e10-2bc7-4341-88a9-0e78beb39934"
      },
      "execution_count": null,
      "outputs": [
        {
          "output_type": "stream",
          "name": "stdout",
          "text": [
            "After handling missing values\n"
          ]
        },
        {
          "output_type": "execute_result",
          "data": {
            "text/plain": [
              "Sex         0\n",
              "Embarked    0\n",
              "dtype: int64"
            ]
          },
          "metadata": {},
          "execution_count": 33
        }
      ]
    },
    {
      "cell_type": "code",
      "source": [
        "import pandas as pd\n",
        "from sklearn.preprocessing import OneHotEncoder\n",
        "\n",
        "dataset = pd.get_dummies(dataset, columns=[\"Sex\",\"Embarked\"])"
      ],
      "metadata": {
        "id": "IooOT5ubvfqK"
      },
      "execution_count": null,
      "outputs": []
    },
    {
      "cell_type": "code",
      "source": [
        "from sklearn.model_selection import train_test_split"
      ],
      "metadata": {
        "id": "qPF9ohF1qgpQ"
      },
      "execution_count": null,
      "outputs": []
    },
    {
      "cell_type": "code",
      "source": [
        "\n",
        "cols = ['PassengerId', 'Pclass', 'Age', 'SibSp', 'Parch', 'Fare_log',\n",
        "        'Sex_female', 'Sex_male', 'Embarked_C', 'Embarked_Q', 'Embarked_S']\n",
        "\n",
        "X = dataset[cols]\n",
        "Y = dataset['Survived']\n",
        "\n",
        "\n",
        "X_train, X_test, Y_train, Y_test = train_test_split(X, Y, random_state=0, train_size=0.75)\n"
      ],
      "metadata": {
        "id": "-HetvcoKr0oi"
      },
      "execution_count": null,
      "outputs": []
    },
    {
      "cell_type": "code",
      "source": [
        "X"
      ],
      "metadata": {
        "colab": {
          "base_uri": "https://localhost:8080/",
          "height": 423
        },
        "id": "OYKbLQUNs9vu",
        "outputId": "e24017c4-6085-409a-dd39-6c82d0445f83"
      },
      "execution_count": null,
      "outputs": [
        {
          "output_type": "execute_result",
          "data": {
            "text/plain": [
              "     PassengerId  Pclass        Age  SibSp  Parch  Fare_log  Sex_female  \\\n",
              "0              1       3  22.000000      1      0  2.110213           0   \n",
              "1              2       1  38.000000      1      0  4.280593           1   \n",
              "2              3       3  26.000000      0      0  2.188856           1   \n",
              "3              4       1  35.000000      1      0  3.990834           1   \n",
              "4              5       3  35.000000      0      0  2.202765           0   \n",
              "..           ...     ...        ...    ...    ...       ...         ...   \n",
              "886          887       2  27.000000      0      0  2.639057           0   \n",
              "887          888       1  19.000000      0      0  3.433987           1   \n",
              "888          889       3  29.699118      1      2  3.196630           1   \n",
              "889          890       1  26.000000      0      0  3.433987           0   \n",
              "890          891       3  32.000000      0      0  2.169054           0   \n",
              "\n",
              "     Sex_male  Embarked_C  Embarked_Q  Embarked_S  \n",
              "0           1           0           0           1  \n",
              "1           0           1           0           0  \n",
              "2           0           0           0           1  \n",
              "3           0           0           0           1  \n",
              "4           1           0           0           1  \n",
              "..        ...         ...         ...         ...  \n",
              "886         1           0           0           1  \n",
              "887         0           0           0           1  \n",
              "888         0           0           0           1  \n",
              "889         1           1           0           0  \n",
              "890         1           0           1           0  \n",
              "\n",
              "[891 rows x 11 columns]"
            ],
            "text/html": [
              "\n",
              "  <div id=\"df-f5d14b52-69e6-4c48-a95e-a2e5c47e4aec\" class=\"colab-df-container\">\n",
              "    <div>\n",
              "<style scoped>\n",
              "    .dataframe tbody tr th:only-of-type {\n",
              "        vertical-align: middle;\n",
              "    }\n",
              "\n",
              "    .dataframe tbody tr th {\n",
              "        vertical-align: top;\n",
              "    }\n",
              "\n",
              "    .dataframe thead th {\n",
              "        text-align: right;\n",
              "    }\n",
              "</style>\n",
              "<table border=\"1\" class=\"dataframe\">\n",
              "  <thead>\n",
              "    <tr style=\"text-align: right;\">\n",
              "      <th></th>\n",
              "      <th>PassengerId</th>\n",
              "      <th>Pclass</th>\n",
              "      <th>Age</th>\n",
              "      <th>SibSp</th>\n",
              "      <th>Parch</th>\n",
              "      <th>Fare_log</th>\n",
              "      <th>Sex_female</th>\n",
              "      <th>Sex_male</th>\n",
              "      <th>Embarked_C</th>\n",
              "      <th>Embarked_Q</th>\n",
              "      <th>Embarked_S</th>\n",
              "    </tr>\n",
              "  </thead>\n",
              "  <tbody>\n",
              "    <tr>\n",
              "      <th>0</th>\n",
              "      <td>1</td>\n",
              "      <td>3</td>\n",
              "      <td>22.000000</td>\n",
              "      <td>1</td>\n",
              "      <td>0</td>\n",
              "      <td>2.110213</td>\n",
              "      <td>0</td>\n",
              "      <td>1</td>\n",
              "      <td>0</td>\n",
              "      <td>0</td>\n",
              "      <td>1</td>\n",
              "    </tr>\n",
              "    <tr>\n",
              "      <th>1</th>\n",
              "      <td>2</td>\n",
              "      <td>1</td>\n",
              "      <td>38.000000</td>\n",
              "      <td>1</td>\n",
              "      <td>0</td>\n",
              "      <td>4.280593</td>\n",
              "      <td>1</td>\n",
              "      <td>0</td>\n",
              "      <td>1</td>\n",
              "      <td>0</td>\n",
              "      <td>0</td>\n",
              "    </tr>\n",
              "    <tr>\n",
              "      <th>2</th>\n",
              "      <td>3</td>\n",
              "      <td>3</td>\n",
              "      <td>26.000000</td>\n",
              "      <td>0</td>\n",
              "      <td>0</td>\n",
              "      <td>2.188856</td>\n",
              "      <td>1</td>\n",
              "      <td>0</td>\n",
              "      <td>0</td>\n",
              "      <td>0</td>\n",
              "      <td>1</td>\n",
              "    </tr>\n",
              "    <tr>\n",
              "      <th>3</th>\n",
              "      <td>4</td>\n",
              "      <td>1</td>\n",
              "      <td>35.000000</td>\n",
              "      <td>1</td>\n",
              "      <td>0</td>\n",
              "      <td>3.990834</td>\n",
              "      <td>1</td>\n",
              "      <td>0</td>\n",
              "      <td>0</td>\n",
              "      <td>0</td>\n",
              "      <td>1</td>\n",
              "    </tr>\n",
              "    <tr>\n",
              "      <th>4</th>\n",
              "      <td>5</td>\n",
              "      <td>3</td>\n",
              "      <td>35.000000</td>\n",
              "      <td>0</td>\n",
              "      <td>0</td>\n",
              "      <td>2.202765</td>\n",
              "      <td>0</td>\n",
              "      <td>1</td>\n",
              "      <td>0</td>\n",
              "      <td>0</td>\n",
              "      <td>1</td>\n",
              "    </tr>\n",
              "    <tr>\n",
              "      <th>...</th>\n",
              "      <td>...</td>\n",
              "      <td>...</td>\n",
              "      <td>...</td>\n",
              "      <td>...</td>\n",
              "      <td>...</td>\n",
              "      <td>...</td>\n",
              "      <td>...</td>\n",
              "      <td>...</td>\n",
              "      <td>...</td>\n",
              "      <td>...</td>\n",
              "      <td>...</td>\n",
              "    </tr>\n",
              "    <tr>\n",
              "      <th>886</th>\n",
              "      <td>887</td>\n",
              "      <td>2</td>\n",
              "      <td>27.000000</td>\n",
              "      <td>0</td>\n",
              "      <td>0</td>\n",
              "      <td>2.639057</td>\n",
              "      <td>0</td>\n",
              "      <td>1</td>\n",
              "      <td>0</td>\n",
              "      <td>0</td>\n",
              "      <td>1</td>\n",
              "    </tr>\n",
              "    <tr>\n",
              "      <th>887</th>\n",
              "      <td>888</td>\n",
              "      <td>1</td>\n",
              "      <td>19.000000</td>\n",
              "      <td>0</td>\n",
              "      <td>0</td>\n",
              "      <td>3.433987</td>\n",
              "      <td>1</td>\n",
              "      <td>0</td>\n",
              "      <td>0</td>\n",
              "      <td>0</td>\n",
              "      <td>1</td>\n",
              "    </tr>\n",
              "    <tr>\n",
              "      <th>888</th>\n",
              "      <td>889</td>\n",
              "      <td>3</td>\n",
              "      <td>29.699118</td>\n",
              "      <td>1</td>\n",
              "      <td>2</td>\n",
              "      <td>3.196630</td>\n",
              "      <td>1</td>\n",
              "      <td>0</td>\n",
              "      <td>0</td>\n",
              "      <td>0</td>\n",
              "      <td>1</td>\n",
              "    </tr>\n",
              "    <tr>\n",
              "      <th>889</th>\n",
              "      <td>890</td>\n",
              "      <td>1</td>\n",
              "      <td>26.000000</td>\n",
              "      <td>0</td>\n",
              "      <td>0</td>\n",
              "      <td>3.433987</td>\n",
              "      <td>0</td>\n",
              "      <td>1</td>\n",
              "      <td>1</td>\n",
              "      <td>0</td>\n",
              "      <td>0</td>\n",
              "    </tr>\n",
              "    <tr>\n",
              "      <th>890</th>\n",
              "      <td>891</td>\n",
              "      <td>3</td>\n",
              "      <td>32.000000</td>\n",
              "      <td>0</td>\n",
              "      <td>0</td>\n",
              "      <td>2.169054</td>\n",
              "      <td>0</td>\n",
              "      <td>1</td>\n",
              "      <td>0</td>\n",
              "      <td>1</td>\n",
              "      <td>0</td>\n",
              "    </tr>\n",
              "  </tbody>\n",
              "</table>\n",
              "<p>891 rows × 11 columns</p>\n",
              "</div>\n",
              "    <div class=\"colab-df-buttons\">\n",
              "\n",
              "  <div class=\"colab-df-container\">\n",
              "    <button class=\"colab-df-convert\" onclick=\"convertToInteractive('df-f5d14b52-69e6-4c48-a95e-a2e5c47e4aec')\"\n",
              "            title=\"Convert this dataframe to an interactive table.\"\n",
              "            style=\"display:none;\">\n",
              "\n",
              "  <svg xmlns=\"http://www.w3.org/2000/svg\" height=\"24px\" viewBox=\"0 -960 960 960\">\n",
              "    <path d=\"M120-120v-720h720v720H120Zm60-500h600v-160H180v160Zm220 220h160v-160H400v160Zm0 220h160v-160H400v160ZM180-400h160v-160H180v160Zm440 0h160v-160H620v160ZM180-180h160v-160H180v160Zm440 0h160v-160H620v160Z\"/>\n",
              "  </svg>\n",
              "    </button>\n",
              "\n",
              "  <style>\n",
              "    .colab-df-container {\n",
              "      display:flex;\n",
              "      gap: 12px;\n",
              "    }\n",
              "\n",
              "    .colab-df-convert {\n",
              "      background-color: #E8F0FE;\n",
              "      border: none;\n",
              "      border-radius: 50%;\n",
              "      cursor: pointer;\n",
              "      display: none;\n",
              "      fill: #1967D2;\n",
              "      height: 32px;\n",
              "      padding: 0 0 0 0;\n",
              "      width: 32px;\n",
              "    }\n",
              "\n",
              "    .colab-df-convert:hover {\n",
              "      background-color: #E2EBFA;\n",
              "      box-shadow: 0px 1px 2px rgba(60, 64, 67, 0.3), 0px 1px 3px 1px rgba(60, 64, 67, 0.15);\n",
              "      fill: #174EA6;\n",
              "    }\n",
              "\n",
              "    .colab-df-buttons div {\n",
              "      margin-bottom: 4px;\n",
              "    }\n",
              "\n",
              "    [theme=dark] .colab-df-convert {\n",
              "      background-color: #3B4455;\n",
              "      fill: #D2E3FC;\n",
              "    }\n",
              "\n",
              "    [theme=dark] .colab-df-convert:hover {\n",
              "      background-color: #434B5C;\n",
              "      box-shadow: 0px 1px 3px 1px rgba(0, 0, 0, 0.15);\n",
              "      filter: drop-shadow(0px 1px 2px rgba(0, 0, 0, 0.3));\n",
              "      fill: #FFFFFF;\n",
              "    }\n",
              "  </style>\n",
              "\n",
              "    <script>\n",
              "      const buttonEl =\n",
              "        document.querySelector('#df-f5d14b52-69e6-4c48-a95e-a2e5c47e4aec button.colab-df-convert');\n",
              "      buttonEl.style.display =\n",
              "        google.colab.kernel.accessAllowed ? 'block' : 'none';\n",
              "\n",
              "      async function convertToInteractive(key) {\n",
              "        const element = document.querySelector('#df-f5d14b52-69e6-4c48-a95e-a2e5c47e4aec');\n",
              "        const dataTable =\n",
              "          await google.colab.kernel.invokeFunction('convertToInteractive',\n",
              "                                                    [key], {});\n",
              "        if (!dataTable) return;\n",
              "\n",
              "        const docLinkHtml = 'Like what you see? Visit the ' +\n",
              "          '<a target=\"_blank\" href=https://colab.research.google.com/notebooks/data_table.ipynb>data table notebook</a>'\n",
              "          + ' to learn more about interactive tables.';\n",
              "        element.innerHTML = '';\n",
              "        dataTable['output_type'] = 'display_data';\n",
              "        await google.colab.output.renderOutput(dataTable, element);\n",
              "        const docLink = document.createElement('div');\n",
              "        docLink.innerHTML = docLinkHtml;\n",
              "        element.appendChild(docLink);\n",
              "      }\n",
              "    </script>\n",
              "  </div>\n",
              "\n",
              "\n",
              "<div id=\"df-1330f4df-7c38-4729-ab23-97b1bbf8d260\">\n",
              "  <button class=\"colab-df-quickchart\" onclick=\"quickchart('df-1330f4df-7c38-4729-ab23-97b1bbf8d260')\"\n",
              "            title=\"Suggest charts\"\n",
              "            style=\"display:none;\">\n",
              "\n",
              "<svg xmlns=\"http://www.w3.org/2000/svg\" height=\"24px\"viewBox=\"0 0 24 24\"\n",
              "     width=\"24px\">\n",
              "    <g>\n",
              "        <path d=\"M19 3H5c-1.1 0-2 .9-2 2v14c0 1.1.9 2 2 2h14c1.1 0 2-.9 2-2V5c0-1.1-.9-2-2-2zM9 17H7v-7h2v7zm4 0h-2V7h2v10zm4 0h-2v-4h2v4z\"/>\n",
              "    </g>\n",
              "</svg>\n",
              "  </button>\n",
              "\n",
              "<style>\n",
              "  .colab-df-quickchart {\n",
              "      --bg-color: #E8F0FE;\n",
              "      --fill-color: #1967D2;\n",
              "      --hover-bg-color: #E2EBFA;\n",
              "      --hover-fill-color: #174EA6;\n",
              "      --disabled-fill-color: #AAA;\n",
              "      --disabled-bg-color: #DDD;\n",
              "  }\n",
              "\n",
              "  [theme=dark] .colab-df-quickchart {\n",
              "      --bg-color: #3B4455;\n",
              "      --fill-color: #D2E3FC;\n",
              "      --hover-bg-color: #434B5C;\n",
              "      --hover-fill-color: #FFFFFF;\n",
              "      --disabled-bg-color: #3B4455;\n",
              "      --disabled-fill-color: #666;\n",
              "  }\n",
              "\n",
              "  .colab-df-quickchart {\n",
              "    background-color: var(--bg-color);\n",
              "    border: none;\n",
              "    border-radius: 50%;\n",
              "    cursor: pointer;\n",
              "    display: none;\n",
              "    fill: var(--fill-color);\n",
              "    height: 32px;\n",
              "    padding: 0;\n",
              "    width: 32px;\n",
              "  }\n",
              "\n",
              "  .colab-df-quickchart:hover {\n",
              "    background-color: var(--hover-bg-color);\n",
              "    box-shadow: 0 1px 2px rgba(60, 64, 67, 0.3), 0 1px 3px 1px rgba(60, 64, 67, 0.15);\n",
              "    fill: var(--button-hover-fill-color);\n",
              "  }\n",
              "\n",
              "  .colab-df-quickchart-complete:disabled,\n",
              "  .colab-df-quickchart-complete:disabled:hover {\n",
              "    background-color: var(--disabled-bg-color);\n",
              "    fill: var(--disabled-fill-color);\n",
              "    box-shadow: none;\n",
              "  }\n",
              "\n",
              "  .colab-df-spinner {\n",
              "    border: 2px solid var(--fill-color);\n",
              "    border-color: transparent;\n",
              "    border-bottom-color: var(--fill-color);\n",
              "    animation:\n",
              "      spin 1s steps(1) infinite;\n",
              "  }\n",
              "\n",
              "  @keyframes spin {\n",
              "    0% {\n",
              "      border-color: transparent;\n",
              "      border-bottom-color: var(--fill-color);\n",
              "      border-left-color: var(--fill-color);\n",
              "    }\n",
              "    20% {\n",
              "      border-color: transparent;\n",
              "      border-left-color: var(--fill-color);\n",
              "      border-top-color: var(--fill-color);\n",
              "    }\n",
              "    30% {\n",
              "      border-color: transparent;\n",
              "      border-left-color: var(--fill-color);\n",
              "      border-top-color: var(--fill-color);\n",
              "      border-right-color: var(--fill-color);\n",
              "    }\n",
              "    40% {\n",
              "      border-color: transparent;\n",
              "      border-right-color: var(--fill-color);\n",
              "      border-top-color: var(--fill-color);\n",
              "    }\n",
              "    60% {\n",
              "      border-color: transparent;\n",
              "      border-right-color: var(--fill-color);\n",
              "    }\n",
              "    80% {\n",
              "      border-color: transparent;\n",
              "      border-right-color: var(--fill-color);\n",
              "      border-bottom-color: var(--fill-color);\n",
              "    }\n",
              "    90% {\n",
              "      border-color: transparent;\n",
              "      border-bottom-color: var(--fill-color);\n",
              "    }\n",
              "  }\n",
              "</style>\n",
              "\n",
              "  <script>\n",
              "    async function quickchart(key) {\n",
              "      const quickchartButtonEl =\n",
              "        document.querySelector('#' + key + ' button');\n",
              "      quickchartButtonEl.disabled = true;  // To prevent multiple clicks.\n",
              "      quickchartButtonEl.classList.add('colab-df-spinner');\n",
              "      try {\n",
              "        const charts = await google.colab.kernel.invokeFunction(\n",
              "            'suggestCharts', [key], {});\n",
              "      } catch (error) {\n",
              "        console.error('Error during call to suggestCharts:', error);\n",
              "      }\n",
              "      quickchartButtonEl.classList.remove('colab-df-spinner');\n",
              "      quickchartButtonEl.classList.add('colab-df-quickchart-complete');\n",
              "    }\n",
              "    (() => {\n",
              "      let quickchartButtonEl =\n",
              "        document.querySelector('#df-1330f4df-7c38-4729-ab23-97b1bbf8d260 button');\n",
              "      quickchartButtonEl.style.display =\n",
              "        google.colab.kernel.accessAllowed ? 'block' : 'none';\n",
              "    })();\n",
              "  </script>\n",
              "</div>\n",
              "\n",
              "  <div id=\"id_8587ce0f-1308-4187-abd5-a3da6b07909c\">\n",
              "    <style>\n",
              "      .colab-df-generate {\n",
              "        background-color: #E8F0FE;\n",
              "        border: none;\n",
              "        border-radius: 50%;\n",
              "        cursor: pointer;\n",
              "        display: none;\n",
              "        fill: #1967D2;\n",
              "        height: 32px;\n",
              "        padding: 0 0 0 0;\n",
              "        width: 32px;\n",
              "      }\n",
              "\n",
              "      .colab-df-generate:hover {\n",
              "        background-color: #E2EBFA;\n",
              "        box-shadow: 0px 1px 2px rgba(60, 64, 67, 0.3), 0px 1px 3px 1px rgba(60, 64, 67, 0.15);\n",
              "        fill: #174EA6;\n",
              "      }\n",
              "\n",
              "      [theme=dark] .colab-df-generate {\n",
              "        background-color: #3B4455;\n",
              "        fill: #D2E3FC;\n",
              "      }\n",
              "\n",
              "      [theme=dark] .colab-df-generate:hover {\n",
              "        background-color: #434B5C;\n",
              "        box-shadow: 0px 1px 3px 1px rgba(0, 0, 0, 0.15);\n",
              "        filter: drop-shadow(0px 1px 2px rgba(0, 0, 0, 0.3));\n",
              "        fill: #FFFFFF;\n",
              "      }\n",
              "    </style>\n",
              "    <button class=\"colab-df-generate\" onclick=\"generateWithVariable('X')\"\n",
              "            title=\"Generate code using this dataframe.\"\n",
              "            style=\"display:none;\">\n",
              "\n",
              "  <svg xmlns=\"http://www.w3.org/2000/svg\" height=\"24px\"viewBox=\"0 0 24 24\"\n",
              "       width=\"24px\">\n",
              "    <path d=\"M7,19H8.4L18.45,9,17,7.55,7,17.6ZM5,21V16.75L18.45,3.32a2,2,0,0,1,2.83,0l1.4,1.43a1.91,1.91,0,0,1,.58,1.4,1.91,1.91,0,0,1-.58,1.4L9.25,21ZM18.45,9,17,7.55Zm-12,3A5.31,5.31,0,0,0,4.9,8.1,5.31,5.31,0,0,0,1,6.5,5.31,5.31,0,0,0,4.9,4.9,5.31,5.31,0,0,0,6.5,1,5.31,5.31,0,0,0,8.1,4.9,5.31,5.31,0,0,0,12,6.5,5.46,5.46,0,0,0,6.5,12Z\"/>\n",
              "  </svg>\n",
              "    </button>\n",
              "    <script>\n",
              "      (() => {\n",
              "      const buttonEl =\n",
              "        document.querySelector('#id_8587ce0f-1308-4187-abd5-a3da6b07909c button.colab-df-generate');\n",
              "      buttonEl.style.display =\n",
              "        google.colab.kernel.accessAllowed ? 'block' : 'none';\n",
              "\n",
              "      buttonEl.onclick = () => {\n",
              "        google.colab.notebook.generateWithVariable('X');\n",
              "      }\n",
              "      })();\n",
              "    </script>\n",
              "  </div>\n",
              "\n",
              "    </div>\n",
              "  </div>\n"
            ],
            "application/vnd.google.colaboratory.intrinsic+json": {
              "type": "dataframe",
              "variable_name": "X",
              "summary": "{\n  \"name\": \"X\",\n  \"rows\": 891,\n  \"fields\": [\n    {\n      \"column\": \"PassengerId\",\n      \"properties\": {\n        \"dtype\": \"number\",\n        \"std\": 257,\n        \"min\": 1,\n        \"max\": 891,\n        \"num_unique_values\": 891,\n        \"samples\": [\n          710,\n          440,\n          841\n        ],\n        \"semantic_type\": \"\",\n        \"description\": \"\"\n      }\n    },\n    {\n      \"column\": \"Pclass\",\n      \"properties\": {\n        \"dtype\": \"number\",\n        \"std\": 0,\n        \"min\": 1,\n        \"max\": 3,\n        \"num_unique_values\": 3,\n        \"samples\": [\n          3,\n          1,\n          2\n        ],\n        \"semantic_type\": \"\",\n        \"description\": \"\"\n      }\n    },\n    {\n      \"column\": \"Age\",\n      \"properties\": {\n        \"dtype\": \"number\",\n        \"std\": 13.002015226002882,\n        \"min\": 0.42,\n        \"max\": 80.0,\n        \"num_unique_values\": 89,\n        \"samples\": [\n          59.0,\n          36.5,\n          28.5\n        ],\n        \"semantic_type\": \"\",\n        \"description\": \"\"\n      }\n    },\n    {\n      \"column\": \"SibSp\",\n      \"properties\": {\n        \"dtype\": \"number\",\n        \"std\": 1,\n        \"min\": 0,\n        \"max\": 8,\n        \"num_unique_values\": 7,\n        \"samples\": [\n          1,\n          0,\n          5\n        ],\n        \"semantic_type\": \"\",\n        \"description\": \"\"\n      }\n    },\n    {\n      \"column\": \"Parch\",\n      \"properties\": {\n        \"dtype\": \"number\",\n        \"std\": 0,\n        \"min\": 0,\n        \"max\": 6,\n        \"num_unique_values\": 7,\n        \"samples\": [\n          0,\n          1,\n          4\n        ],\n        \"semantic_type\": \"\",\n        \"description\": \"\"\n      }\n    },\n    {\n      \"column\": \"Fare_log\",\n      \"properties\": {\n        \"dtype\": \"number\",\n        \"std\": 0.9690482701223673,\n        \"min\": 0.0,\n        \"max\": 6.240917354759096,\n        \"num_unique_values\": 248,\n        \"samples\": [\n          2.5048481563289,\n          3.967694202798607,\n          2.1661924680884908\n        ],\n        \"semantic_type\": \"\",\n        \"description\": \"\"\n      }\n    },\n    {\n      \"column\": \"Sex_female\",\n      \"properties\": {\n        \"dtype\": \"uint8\",\n        \"num_unique_values\": 2,\n        \"samples\": [\n          1,\n          0\n        ],\n        \"semantic_type\": \"\",\n        \"description\": \"\"\n      }\n    },\n    {\n      \"column\": \"Sex_male\",\n      \"properties\": {\n        \"dtype\": \"uint8\",\n        \"num_unique_values\": 2,\n        \"samples\": [\n          0,\n          1\n        ],\n        \"semantic_type\": \"\",\n        \"description\": \"\"\n      }\n    },\n    {\n      \"column\": \"Embarked_C\",\n      \"properties\": {\n        \"dtype\": \"uint8\",\n        \"num_unique_values\": 2,\n        \"samples\": [\n          1,\n          0\n        ],\n        \"semantic_type\": \"\",\n        \"description\": \"\"\n      }\n    },\n    {\n      \"column\": \"Embarked_Q\",\n      \"properties\": {\n        \"dtype\": \"uint8\",\n        \"num_unique_values\": 2,\n        \"samples\": [\n          1,\n          0\n        ],\n        \"semantic_type\": \"\",\n        \"description\": \"\"\n      }\n    },\n    {\n      \"column\": \"Embarked_S\",\n      \"properties\": {\n        \"dtype\": \"uint8\",\n        \"num_unique_values\": 2,\n        \"samples\": [\n          0,\n          1\n        ],\n        \"semantic_type\": \"\",\n        \"description\": \"\"\n      }\n    }\n  ]\n}"
            }
          },
          "metadata": {},
          "execution_count": 38
        }
      ]
    },
    {
      "cell_type": "code",
      "source": [
        "Y"
      ],
      "metadata": {
        "colab": {
          "base_uri": "https://localhost:8080/"
        },
        "id": "Digbcy_Hs_M7",
        "outputId": "1174f28c-d629-4f57-b443-f09de37356d8"
      },
      "execution_count": null,
      "outputs": [
        {
          "output_type": "execute_result",
          "data": {
            "text/plain": [
              "0      0\n",
              "1      1\n",
              "2      1\n",
              "3      1\n",
              "4      0\n",
              "      ..\n",
              "886    0\n",
              "887    1\n",
              "888    0\n",
              "889    1\n",
              "890    0\n",
              "Name: Survived, Length: 891, dtype: int64"
            ]
          },
          "metadata": {},
          "execution_count": 39
        }
      ]
    },
    {
      "cell_type": "code",
      "source": [
        "from sklearn.ensemble import RandomForestClassifier\n",
        "from sklearn.metrics import confusion_matrix, accuracy_score, precision_score, recall_score, f1_score\n",
        "from sklearn.ensemble import RandomForestClassifier\n",
        "\n",
        "clf = RandomForestClassifier(n_estimators=100)\n",
        "\n",
        "clf.fit(X_train, Y_train)\n",
        "Y_pred = clf.predict(X_test)\n",
        "\n",
        "cm = confusion_matrix(Y_test, Y_pred)\n",
        "print(\"Confusion Matrix:\")\n",
        "print(cm)\n",
        "\n",
        "ac = accuracy_score(Y_test, Y_pred)\n",
        "print(f\"Accuracy: {ac}\")\n",
        "\n",
        "precision = precision_score(Y_test, Y_pred)\n",
        "print(f\"Precision: {precision}\")\n",
        "\n",
        "recall = recall_score(Y_test, Y_pred)\n",
        "print(f\"Recall: {recall}\")\n",
        "\n",
        "f1 = f1_score(Y_test, Y_pred)\n",
        "print(f\"F1 Score: {f1}\")\n"
      ],
      "metadata": {
        "colab": {
          "base_uri": "https://localhost:8080/"
        },
        "id": "XUuwoaFaHdnF",
        "outputId": "6b80c0fd-7285-40a3-98de-c529a0bcf55e"
      },
      "execution_count": null,
      "outputs": [
        {
          "output_type": "stream",
          "name": "stdout",
          "text": [
            "Confusion Matrix:\n",
            "[[129  10]\n",
            " [ 25  59]]\n",
            "Accuracy: 0.8430493273542601\n",
            "Precision: 0.855072463768116\n",
            "Recall: 0.7023809523809523\n",
            "F1 Score: 0.7712418300653594\n"
          ]
        }
      ]
    },
    {
      "cell_type": "code",
      "source": [
        "from sklearn.model_selection import GridSearchCV\n",
        "from sklearn.ensemble import RandomForestClassifier\n",
        "\n",
        "\n",
        "param_grid = {\n",
        "    'n_estimators': [50, 100, 200],\n",
        "    'max_depth': [None, 10, 20],\n",
        "    'min_samples_split': [2, 5, 10],\n",
        "    'min_samples_leaf': [1, 2, 4],\n",
        "    'max_features': ['auto', 'sqrt'],\n",
        "    'bootstrap': [True, False]\n",
        "}\n",
        "\n",
        "\n",
        "rf_classifier = RandomForestClassifier(random_state=42)\n",
        "\n",
        "grid_search = GridSearchCV(estimator=rf_classifier, param_grid=param_grid, cv=5, scoring='accuracy', n_jobs=-1)\n",
        "\n",
        "grid_search.fit(X_train, Y_train)\n",
        "\n",
        "best_params = grid_search.best_params_\n",
        "best_score = grid_search.best_score_\n",
        "\n",
        "print(\"Best Parameters:\", best_params)\n",
        "print(\"Best Score:\", best_score)\n"
      ],
      "metadata": {
        "colab": {
          "base_uri": "https://localhost:8080/"
        },
        "id": "xjaru9LNEGBv",
        "outputId": "6a1303dc-5641-42af-ff79-3f365ebda658"
      },
      "execution_count": null,
      "outputs": [
        {
          "output_type": "stream",
          "name": "stdout",
          "text": [
            "Best Parameters: {'bootstrap': True, 'max_depth': 20, 'max_features': 'auto', 'min_samples_leaf': 1, 'min_samples_split': 10, 'n_estimators': 50}\n",
            "Best Score: 0.8248120300751879\n"
          ]
        },
        {
          "output_type": "stream",
          "name": "stderr",
          "text": [
            "/usr/local/lib/python3.10/dist-packages/sklearn/ensemble/_forest.py:424: FutureWarning: `max_features='auto'` has been deprecated in 1.1 and will be removed in 1.3. To keep the past behaviour, explicitly set `max_features='sqrt'` or remove this parameter as it is also the default value for RandomForestClassifiers and ExtraTreesClassifiers.\n",
            "  warn(\n"
          ]
        }
      ]
    },
    {
      "cell_type": "code",
      "source": [
        "from sklearn.ensemble import RandomForestClassifier\n",
        "from sklearn.metrics import confusion_matrix, accuracy_score, precision_score, recall_score, f1_score\n",
        "from sklearn.ensemble import RandomForestClassifier\n",
        "\n",
        "clf = RandomForestClassifier(bootstrap=1 , max_depth=20, max_features='auto', min_samples_leaf=1, min_samples_split=10, n_estimators=50)\n",
        "\n",
        "clf.fit(X_train, Y_train)\n",
        "Y_pred = clf.predict(X_test)\n",
        "\n",
        "cm = confusion_matrix(Y_test, Y_pred)\n",
        "print(\"Confusion Matrix:\")\n",
        "print(cm)\n",
        "\n",
        "ac = accuracy_score(Y_test, Y_pred)\n",
        "print(f\"Accuracy: {ac}\")\n",
        "\n",
        "precision = precision_score(Y_test, Y_pred)\n",
        "print(f\"Precision: {precision}\")\n",
        "\n",
        "recall = recall_score(Y_test, Y_pred)\n",
        "print(f\"Recall: {recall}\")\n",
        "\n",
        "f1 = f1_score(Y_test, Y_pred)\n",
        "print(f\"F1 Score: {f1}\")\n"
      ],
      "metadata": {
        "id": "r8RA4ZbuykqQ"
      },
      "execution_count": null,
      "outputs": []
    },
    {
      "cell_type": "code",
      "source": [
        "from yellowbrick.classifier import ROCAUC\n",
        "\n",
        "visualizer = ROCAUC(clf, classes=[\"Not Survived\", \"Survived\"], line_color='purple')\n",
        "\n",
        "visualizer.fit(X_train, Y_train)\n",
        "\n",
        "visualizer.score(X_test, Y_test)\n",
        "\n",
        "visualizer.show()\n"
      ],
      "metadata": {
        "id": "JOLkdZPbIX3C"
      },
      "execution_count": null,
      "outputs": []
    }
  ]
}